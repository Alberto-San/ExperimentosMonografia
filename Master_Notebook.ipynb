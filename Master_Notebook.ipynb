{
  "nbformat": 4,
  "nbformat_minor": 0,
  "metadata": {
    "colab": {
      "provenance": [],
      "authorship_tag": "ABX9TyMLCKf5Cw6WCijpTZ1b+INM",
      "include_colab_link": true
    },
    "kernelspec": {
      "name": "python3",
      "display_name": "Python 3"
    },
    "language_info": {
      "name": "python"
    }
  },
  "cells": [
    {
      "cell_type": "markdown",
      "metadata": {
        "id": "view-in-github",
        "colab_type": "text"
      },
      "source": [
        "<a href=\"https://colab.research.google.com/github/Alberto-San/ExperimentosMonografia/blob/main/Master_Notebook.ipynb\" target=\"_parent\"><img src=\"https://colab.research.google.com/assets/colab-badge.svg\" alt=\"Open In Colab\"/></a>"
      ]
    },
    {
      "cell_type": "markdown",
      "source": [
        "# Descargando APIS\n",
        "\n",
        "Esta seccion contiene el codigo necesario para correr las diferentes funcionalidades que se reportaran a lo largo del notebook:\n",
        "* Obtencion de Caracteristicas por imagen\n",
        "* Reconocimiento de datos atipicos\n",
        "* Filtrado de datos atipicos\n",
        "* ..."
      ],
      "metadata": {
        "id": "5ND1cwWq6wvc"
      }
    },
    {
      "cell_type": "code",
      "source": [
        "!git clone https://github.com/Alberto-San/MonografiaDataScience"
      ],
      "metadata": {
        "colab": {
          "base_uri": "https://localhost:8080/"
        },
        "id": "CFScaQ9hCpJN",
        "outputId": "6d17ca1f-21cd-4611-bbb9-44ed11cca1f1"
      },
      "execution_count": 1,
      "outputs": [
        {
          "output_type": "stream",
          "name": "stdout",
          "text": [
            "Cloning into 'MonografiaDataScience'...\n",
            "remote: Enumerating objects: 130, done.\u001b[K\n",
            "remote: Counting objects: 100% (130/130), done.\u001b[K\n",
            "remote: Compressing objects: 100% (91/91), done.\u001b[K\n",
            "remote: Total 130 (delta 45), reused 108 (delta 29), pack-reused 0\u001b[K\n",
            "Receiving objects: 100% (130/130), 21.13 MiB | 22.83 MiB/s, done.\n",
            "Resolving deltas: 100% (45/45), done.\n"
          ]
        }
      ]
    },
    {
      "cell_type": "markdown",
      "source": [
        "# Condiciones\n",
        "Estas banderas permiten definir el estado de desarrollo del experimento.\n",
        "* IS_ZIP_EXTRACTED: si esta bandera es ```True```, significa que el dataset ya fue cargado y procesado\n",
        "* IS_FEATURES_EXTRACTED: si esta bandera es ```True```, significa que ya se extrajeron las caracteristicas de las imagenes"
      ],
      "metadata": {
        "id": "ulwg5hL-BU0u"
      }
    },
    {
      "cell_type": "code",
      "source": [
        "IS_ZIP_EXTRACTED = True\n",
        "IS_FEATURES_EXTRACTED = True\n",
        "IS_OUTLIERS_EXTRACTED = True"
      ],
      "metadata": {
        "id": "A7mB10tEBZu6"
      },
      "execution_count": 9,
      "outputs": []
    },
    {
      "cell_type": "markdown",
      "source": [
        "# Funciones Base\n",
        "\n",
        "En esta seccion se reportan funciones generales que se usaran a lo largo del experimento\n",
        "* ```cd_into```: permite agregar al path del sistema el folder para reconocer los diferentes modulos que se usaran a lo largo del experimento"
      ],
      "metadata": {
        "id": "Zaa0LO7L74xl"
      }
    },
    {
      "cell_type": "code",
      "source": [
        "import os\n",
        "import sys\n",
        "import warnings\n",
        "warnings.filterwarnings('ignore')\n",
        "\n",
        "def cd_into(folder):\n",
        "  sys.path.append(os.path.abspath(os.path.join(os.path.dirname(\".\"), folder)))"
      ],
      "metadata": {
        "id": "y30nQMgD738J"
      },
      "execution_count": 3,
      "outputs": []
    },
    {
      "cell_type": "markdown",
      "source": [
        "# Descargando las imagenes\n",
        "Se descarga el dataset de **sipakmed**, el cual, contiene recortes que son las imagenes objetivos, separados en 5 grandes categorias:\n",
        "* K\n",
        "* S\n",
        "* M\n",
        "* D\n",
        "* P"
      ],
      "metadata": {
        "id": "LlUFp6Dl6_4k"
      }
    },
    {
      "cell_type": "code",
      "source": [
        "cd_into(\"MonografiaDataScience/DownloadAPI\")\n",
        "\n",
        "if not IS_ZIP_EXTRACTED:\n",
        "  from download_api import *\n",
        "\n",
        "  dataset_name = \"prahladmehandiratta/cervical-cancer-largest-dataset-sipakmed\"\n",
        "  kaggle_key = '{\"username\":\"daniellpez2\",\"key\":\"d2901f7891215e2c88e8defcd26c7c8c\"}'\n",
        "  dst_folder = \"sipakmed\"\n",
        "\n",
        "  downloader = DownloadDataset(dataset_name, kaggle_key, dst_folder)\n",
        "  measure_time(downloader.download)"
      ],
      "metadata": {
        "id": "gKe7WRMY6vlQ"
      },
      "execution_count": 4,
      "outputs": []
    },
    {
      "cell_type": "markdown",
      "source": [
        "# Obteniendo vectores de caracteristicas\n",
        "\n",
        "Se sigue el procedimiento de <<citar persona>> reportado en el paper <<citar paper>>, y se extraen las caracteristicas de :\n",
        "* Intensidad promedio: Se define como la media de la imagen\n",
        "* Suavidad: Se define como el promedio del valor absoluto de la imagen al aplicar un filtro laplaciano\n",
        "* Uniformidad: Se define como las suma de las diferencias al cuadrado entre la imagen al aplicar un filtro guassiano, y la imagen al aplicar multiples veces el filtro gaussiano\n",
        "* Tercer Momento: Se define como el tercer momento de la distribucion de la imagen como vector. \n",
        "* Entropia: Se define como la entropia de shannon al considerar la distribucion de frecuencias de la imagen como distribucion de probabilidad\n",
        "* Desviacion estandar: Se define como la desviacion estandar de la imagen\n",
        "* Mediana: Se define como la mediana de la imagen\n",
        "* Contraste promedio: Se define como la media de la luminancia de la imagen\n",
        "\n",
        "en cada una de las dimensiones (R, G, B) de las imagenes."
      ],
      "metadata": {
        "id": "WKEp7qUZA83z"
      }
    },
    {
      "cell_type": "code",
      "source": [
        "import pandas as pd\n",
        "\n",
        "cd_into(\"MonografiaDataScience/FeaturesAPI/Experiment_color\")\n",
        "\n",
        "csv_files = [file for file in os.listdir(\"MonografiaDataScience/tmp/\") if file.split(\".\")[-1] == \"csv\"]\n",
        "\n",
        "\n",
        "if len(csv_files) < 1 and (not IS_FEATURES_EXTRACTED):\n",
        "  import cv2\n",
        "  \n",
        "  import cv2\n",
        "  from scipy.stats import moment\n",
        "  from CervicalCancerContentReader import *\n",
        "  from CalculateImageClasicalFeatures import *\n",
        "  from constants import *\n",
        "  import multiprocessing\n",
        "\n",
        "  sub_folder = \"CROPPED\"\n",
        "  image_extension = \"bmp\"\n",
        "  data_extension = \"dat\"\n",
        "  dataset_output_path = \"/content/sipakmed\"\n",
        "  size = (220, 220)\n",
        "\n",
        "  categories_content = CervicalCancerContentReader(\n",
        "                          dataset_output_path,\n",
        "                          image_extension,\n",
        "                          data_extension,\n",
        "                          sub_folder\n",
        "                      ).read()\n",
        "\n",
        "  labels = list(categories_content.keys())\n",
        "\n",
        "\n",
        "  def multiprocessing_logic(items, function):\n",
        "      num_processes = multiprocessing.cpu_count()\n",
        "      pool = multiprocessing.Pool(num_processes)\n",
        "      output_list = pool.map(function, items)\n",
        "      return output_list\n",
        "\n",
        "  def get_color_component(path):\n",
        "      print(\"path: {}\".format(path))\n",
        "      image_bgr = cv2.imread(path)\n",
        "      color_component = cv2.resize(image_bgr, size, interpolation=cv2.INTER_LINEAR)\n",
        "      return color_component\n",
        "\n",
        "  def get_descriptor(args):\n",
        "      index, label, image_paths, image_component, hanlder = args\n",
        "      return [label, image_paths[index]] + hanlder.calculate_features(image_component)\n",
        "\n",
        "  def calculate_features_label(label, categories_content):\n",
        "      hanlder = CalculateImageClasicalFeatures(\"bgr\")\n",
        "      image_paths = categories_content[label][IMAGE_PATH_KEY]\n",
        "      num_processes = multiprocessing.cpu_count()\n",
        "      pool = multiprocessing.Pool(num_processes) #[get_luminance_component(path) for path in image_paths]\n",
        "      print(\"Reading Images\")\n",
        "      im_list = pool.map(get_color_component, image_paths) #pool.map(get_luminance_component, image_paths)\n",
        "      function_args = [(index, label, image_paths, im_list[index], hanlder) for index in range(len(im_list))]\n",
        "      print(\"Getting Descriptors\")\n",
        "      features = pool.map(get_descriptor, function_args) #multiprocessing_logic(items=function_args, function=get_descriptor)\n",
        "      return features\n",
        "\n",
        "  accum_list = []\n",
        "  accum_labels = []\n",
        "  flag_define_labels = False\n",
        "  for label in labels:\n",
        "      [accum_list.append(feature) for feature in calculate_features_label(label, categories_content)]\n",
        "\n",
        "      if not(flag_define_labels):\n",
        "          accum_labels = [\"feature_{}\".format(index) for index in range(len(accum_list[0])-2)]\n",
        "          flag_define_labels = True\n",
        "      \n",
        "\n",
        "  columns = [\n",
        "      \"class\",\n",
        "      \"image_path\"\n",
        "      ] + accum_labels\n",
        "  df = pd.DataFrame(accum_list, columns=columns)\n",
        "\n",
        "  df.to_csv(\"./MonografiaDataScience/tmp/color_statistics.csv\", index=False)"
      ],
      "metadata": {
        "id": "pVMsx4LKjPl0"
      },
      "execution_count": 5,
      "outputs": []
    },
    {
      "cell_type": "markdown",
      "source": [
        "Se muestra un ejemplo de un registro, donde hay 7 caracteristicas por cada uno de los canales R,G,B (21 en total), y una adicional correspondiente a la luminancia"
      ],
      "metadata": {
        "id": "XUat-z74k53-"
      }
    },
    {
      "cell_type": "code",
      "source": [
        "path_color_images = \"./MonografiaDataScience/tmp/color_statistics.csv\"\n",
        "table_features = pd.read_csv(path_color_images)\n",
        "table_features.head(1).transpose()"
      ],
      "metadata": {
        "colab": {
          "base_uri": "https://localhost:8080/",
          "height": 802
        },
        "id": "wNgXTtVni03F",
        "outputId": "3d060592-f21a-421d-c3b7-bc9c9364f41b"
      },
      "execution_count": 6,
      "outputs": [
        {
          "output_type": "execute_result",
          "data": {
            "text/plain": [
              "                                                            0\n",
              "class                             im_Superficial-Intermediate\n",
              "image_path  /content/sipakmed/im_Superficial-Intermediate/...\n",
              "feature_0                                          183.323388\n",
              "feature_1                                             0.01802\n",
              "feature_2                                            0.028836\n",
              "feature_3                                         -917.959535\n",
              "feature_4                                            6.254622\n",
              "feature_5                                           20.068231\n",
              "feature_6                                               184.0\n",
              "feature_7                                          139.200186\n",
              "feature_8                                            0.017287\n",
              "feature_9                                            0.035768\n",
              "feature_10                                         328.495952\n",
              "feature_11                                           6.395571\n",
              "feature_12                                          23.040231\n",
              "feature_13                                              139.0\n",
              "feature_14                                          72.627459\n",
              "feature_15                                           0.013979\n",
              "feature_16                                           0.021424\n",
              "feature_17                                         5595.14412\n",
              "feature_18                                           6.293955\n",
              "feature_19                                          22.126087\n",
              "feature_20                                               67.0\n",
              "feature_21                                         124.324153"
            ],
            "text/html": [
              "\n",
              "  <div id=\"df-d4a7d776-a263-47c3-902d-d7f72b1c08d6\">\n",
              "    <div class=\"colab-df-container\">\n",
              "      <div>\n",
              "<style scoped>\n",
              "    .dataframe tbody tr th:only-of-type {\n",
              "        vertical-align: middle;\n",
              "    }\n",
              "\n",
              "    .dataframe tbody tr th {\n",
              "        vertical-align: top;\n",
              "    }\n",
              "\n",
              "    .dataframe thead th {\n",
              "        text-align: right;\n",
              "    }\n",
              "</style>\n",
              "<table border=\"1\" class=\"dataframe\">\n",
              "  <thead>\n",
              "    <tr style=\"text-align: right;\">\n",
              "      <th></th>\n",
              "      <th>0</th>\n",
              "    </tr>\n",
              "  </thead>\n",
              "  <tbody>\n",
              "    <tr>\n",
              "      <th>class</th>\n",
              "      <td>im_Superficial-Intermediate</td>\n",
              "    </tr>\n",
              "    <tr>\n",
              "      <th>image_path</th>\n",
              "      <td>/content/sipakmed/im_Superficial-Intermediate/...</td>\n",
              "    </tr>\n",
              "    <tr>\n",
              "      <th>feature_0</th>\n",
              "      <td>183.323388</td>\n",
              "    </tr>\n",
              "    <tr>\n",
              "      <th>feature_1</th>\n",
              "      <td>0.01802</td>\n",
              "    </tr>\n",
              "    <tr>\n",
              "      <th>feature_2</th>\n",
              "      <td>0.028836</td>\n",
              "    </tr>\n",
              "    <tr>\n",
              "      <th>feature_3</th>\n",
              "      <td>-917.959535</td>\n",
              "    </tr>\n",
              "    <tr>\n",
              "      <th>feature_4</th>\n",
              "      <td>6.254622</td>\n",
              "    </tr>\n",
              "    <tr>\n",
              "      <th>feature_5</th>\n",
              "      <td>20.068231</td>\n",
              "    </tr>\n",
              "    <tr>\n",
              "      <th>feature_6</th>\n",
              "      <td>184.0</td>\n",
              "    </tr>\n",
              "    <tr>\n",
              "      <th>feature_7</th>\n",
              "      <td>139.200186</td>\n",
              "    </tr>\n",
              "    <tr>\n",
              "      <th>feature_8</th>\n",
              "      <td>0.017287</td>\n",
              "    </tr>\n",
              "    <tr>\n",
              "      <th>feature_9</th>\n",
              "      <td>0.035768</td>\n",
              "    </tr>\n",
              "    <tr>\n",
              "      <th>feature_10</th>\n",
              "      <td>328.495952</td>\n",
              "    </tr>\n",
              "    <tr>\n",
              "      <th>feature_11</th>\n",
              "      <td>6.395571</td>\n",
              "    </tr>\n",
              "    <tr>\n",
              "      <th>feature_12</th>\n",
              "      <td>23.040231</td>\n",
              "    </tr>\n",
              "    <tr>\n",
              "      <th>feature_13</th>\n",
              "      <td>139.0</td>\n",
              "    </tr>\n",
              "    <tr>\n",
              "      <th>feature_14</th>\n",
              "      <td>72.627459</td>\n",
              "    </tr>\n",
              "    <tr>\n",
              "      <th>feature_15</th>\n",
              "      <td>0.013979</td>\n",
              "    </tr>\n",
              "    <tr>\n",
              "      <th>feature_16</th>\n",
              "      <td>0.021424</td>\n",
              "    </tr>\n",
              "    <tr>\n",
              "      <th>feature_17</th>\n",
              "      <td>5595.14412</td>\n",
              "    </tr>\n",
              "    <tr>\n",
              "      <th>feature_18</th>\n",
              "      <td>6.293955</td>\n",
              "    </tr>\n",
              "    <tr>\n",
              "      <th>feature_19</th>\n",
              "      <td>22.126087</td>\n",
              "    </tr>\n",
              "    <tr>\n",
              "      <th>feature_20</th>\n",
              "      <td>67.0</td>\n",
              "    </tr>\n",
              "    <tr>\n",
              "      <th>feature_21</th>\n",
              "      <td>124.324153</td>\n",
              "    </tr>\n",
              "  </tbody>\n",
              "</table>\n",
              "</div>\n",
              "      <button class=\"colab-df-convert\" onclick=\"convertToInteractive('df-d4a7d776-a263-47c3-902d-d7f72b1c08d6')\"\n",
              "              title=\"Convert this dataframe to an interactive table.\"\n",
              "              style=\"display:none;\">\n",
              "        \n",
              "  <svg xmlns=\"http://www.w3.org/2000/svg\" height=\"24px\"viewBox=\"0 0 24 24\"\n",
              "       width=\"24px\">\n",
              "    <path d=\"M0 0h24v24H0V0z\" fill=\"none\"/>\n",
              "    <path d=\"M18.56 5.44l.94 2.06.94-2.06 2.06-.94-2.06-.94-.94-2.06-.94 2.06-2.06.94zm-11 1L8.5 8.5l.94-2.06 2.06-.94-2.06-.94L8.5 2.5l-.94 2.06-2.06.94zm10 10l.94 2.06.94-2.06 2.06-.94-2.06-.94-.94-2.06-.94 2.06-2.06.94z\"/><path d=\"M17.41 7.96l-1.37-1.37c-.4-.4-.92-.59-1.43-.59-.52 0-1.04.2-1.43.59L10.3 9.45l-7.72 7.72c-.78.78-.78 2.05 0 2.83L4 21.41c.39.39.9.59 1.41.59.51 0 1.02-.2 1.41-.59l7.78-7.78 2.81-2.81c.8-.78.8-2.07 0-2.86zM5.41 20L4 18.59l7.72-7.72 1.47 1.35L5.41 20z\"/>\n",
              "  </svg>\n",
              "      </button>\n",
              "      \n",
              "  <style>\n",
              "    .colab-df-container {\n",
              "      display:flex;\n",
              "      flex-wrap:wrap;\n",
              "      gap: 12px;\n",
              "    }\n",
              "\n",
              "    .colab-df-convert {\n",
              "      background-color: #E8F0FE;\n",
              "      border: none;\n",
              "      border-radius: 50%;\n",
              "      cursor: pointer;\n",
              "      display: none;\n",
              "      fill: #1967D2;\n",
              "      height: 32px;\n",
              "      padding: 0 0 0 0;\n",
              "      width: 32px;\n",
              "    }\n",
              "\n",
              "    .colab-df-convert:hover {\n",
              "      background-color: #E2EBFA;\n",
              "      box-shadow: 0px 1px 2px rgba(60, 64, 67, 0.3), 0px 1px 3px 1px rgba(60, 64, 67, 0.15);\n",
              "      fill: #174EA6;\n",
              "    }\n",
              "\n",
              "    [theme=dark] .colab-df-convert {\n",
              "      background-color: #3B4455;\n",
              "      fill: #D2E3FC;\n",
              "    }\n",
              "\n",
              "    [theme=dark] .colab-df-convert:hover {\n",
              "      background-color: #434B5C;\n",
              "      box-shadow: 0px 1px 3px 1px rgba(0, 0, 0, 0.15);\n",
              "      filter: drop-shadow(0px 1px 2px rgba(0, 0, 0, 0.3));\n",
              "      fill: #FFFFFF;\n",
              "    }\n",
              "  </style>\n",
              "\n",
              "      <script>\n",
              "        const buttonEl =\n",
              "          document.querySelector('#df-d4a7d776-a263-47c3-902d-d7f72b1c08d6 button.colab-df-convert');\n",
              "        buttonEl.style.display =\n",
              "          google.colab.kernel.accessAllowed ? 'block' : 'none';\n",
              "\n",
              "        async function convertToInteractive(key) {\n",
              "          const element = document.querySelector('#df-d4a7d776-a263-47c3-902d-d7f72b1c08d6');\n",
              "          const dataTable =\n",
              "            await google.colab.kernel.invokeFunction('convertToInteractive',\n",
              "                                                     [key], {});\n",
              "          if (!dataTable) return;\n",
              "\n",
              "          const docLinkHtml = 'Like what you see? Visit the ' +\n",
              "            '<a target=\"_blank\" href=https://colab.research.google.com/notebooks/data_table.ipynb>data table notebook</a>'\n",
              "            + ' to learn more about interactive tables.';\n",
              "          element.innerHTML = '';\n",
              "          dataTable['output_type'] = 'display_data';\n",
              "          await google.colab.output.renderOutput(dataTable, element);\n",
              "          const docLink = document.createElement('div');\n",
              "          docLink.innerHTML = docLinkHtml;\n",
              "          element.appendChild(docLink);\n",
              "        }\n",
              "      </script>\n",
              "    </div>\n",
              "  </div>\n",
              "  "
            ]
          },
          "metadata": {},
          "execution_count": 6
        }
      ]
    },
    {
      "cell_type": "markdown",
      "source": [
        "# Analisis de Datos Atipicos\n",
        "Para analizar los datos atipicos, se realiza un analisis utilizando el metodo Local Outlier Factor (lof), el cual permite analizar datos de distribuciones de variables en multiples dimensiones. El analisis se realiza sobre las caracteristicas anteriormente ilustradas\n",
        "\n",
        "Se analizan los datos atipicos, y se guardan los modelos de lof en la carpeta tmp dentro de MonografiaDataScience. Ademas, se cuenta con los siguientes archivos:\n",
        "* ```filtered_data.csv```: dataset sin datos atipicos. Contiene la misma estructura del dataset de la seccion anterior\n",
        "* ```lof_im_<<class>>.csv```: dataset que contiene los datos atipicos que una determinada clase ```<<class>>```. Este dataset contiene las dimensiones en PCA, para una mejor visualizacion.\n",
        "* ```lof_im_<<class>>.joblib```: contiene el modelo que permite reconocer los datos atipicos dado el analisis sobre la base de datos original"
      ],
      "metadata": {
        "id": "q7yArpJulVcW"
      }
    },
    {
      "cell_type": "code",
      "source": [
        "if not IS_OUTLIERS_EXTRACTED:\n",
        "  path_color_images = \"./MonografiaDataScience/tmp/color_statistics.csv\"\n",
        "  class_label = \"class\"\n",
        "  path_label = \"image_path\"\n",
        "\n",
        "  from MonografiaDataScience.PreprocessorAPI.getOutliersLOF import *\n",
        "\n",
        "  run_outliers_analisis(path_csv=path_color_images, class_field=class_label, path_field=path_label)"
      ],
      "metadata": {
        "id": "-wyKjtzKkx8o"
      },
      "execution_count": 10,
      "outputs": []
    },
    {
      "cell_type": "code",
      "source": [
        "!ls MonografiaDataScience/tmp"
      ],
      "metadata": {
        "colab": {
          "base_uri": "https://localhost:8080/"
        },
        "id": "7oRaqe8ry7hO",
        "outputId": "3317bbab-8de8-4a37-8fbd-407e448e7344"
      },
      "execution_count": 11,
      "outputs": [
        {
          "output_type": "stream",
          "name": "stdout",
          "text": [
            "color_statistics.csv\t    lof_im_Metaplastic.csv\n",
            "filtered_data.csv\t    lof_im_Metaplastic.joblib\n",
            "lof.csv\t\t\t    lof_im_Parabasal.csv\n",
            "lof_im_Dyskeratotic.csv     lof_im_Parabasal.joblib\n",
            "lof_im_Dyskeratotic.joblib  lof_im_Superficial-Intermediate.csv\n",
            "lof_im_Koilocytotic.csv     lof_im_Superficial-Intermediate.joblib\n",
            "lof_im_Koilocytotic.joblib\n"
          ]
        }
      ]
    },
    {
      "cell_type": "markdown",
      "source": [
        "### Graficando Datos Atipicos\n",
        "A continuacion se grafican los datos atipicos para cada una de las clases.\n",
        "Dado que nos encontramos en multiples dimensiones, para hacer un grafico en dos dimensiones se uso la tecnica de Principal Components Analysis, y se grafica usando las dos componentes con mas varianza del analisis PCA.\n",
        "Los datos fuentes usados provienen de los archivos ```log_im_<<class>>.csv```. Se grafica en:\n",
        "* Rojo: Datos Atipicos\n",
        "* Azul: Datos No Atipicos"
      ],
      "metadata": {
        "id": "XLrGr92j0dEZ"
      }
    },
    {
      "cell_type": "code",
      "source": [
        "import matplotlib.pyplot as plt\n",
        "\n",
        "def get_components(table):\n",
        "  descriptors = [\"type\", \"image_path\"]\n",
        "  numeric = table.drop(descriptors, axis=1).to_numpy()\n",
        "  x0 = numeric[:, 0]\n",
        "  x1 = numeric[:, 1]\n",
        "  return x0, x1\n",
        "\n",
        "def plot_distribution(path):\n",
        "  table = pd.read_csv(path)\n",
        "  df_outliers = table[table[\"type\"] == \"outlier\"]\n",
        "  df_normal = table[table[\"type\"] == \"normal\"]\n",
        "\n",
        "  print(\"Existen {} outliers de {} datos\".format(len(df_outliers), len(table)))\n",
        "  x0_n, x1_n = get_components(df_normal)\n",
        "  x0_o, x1_o = get_components(df_outliers)\n",
        "  plt.plot(x0_n, x1_n, \".\", c=\"blue\")\n",
        "  plt.plot(x0_o, x1_o, \".\", c=\"red\")\n",
        "  plt.show()\n"
      ],
      "metadata": {
        "id": "Jz2Y5VpJy8EB"
      },
      "execution_count": 20,
      "outputs": []
    },
    {
      "cell_type": "markdown",
      "source": [
        "**Clase Koilocytotic**"
      ],
      "metadata": {
        "id": "An8ALhYj1h2a"
      }
    },
    {
      "cell_type": "code",
      "source": [
        "path = \"MonografiaDataScience/tmp/lof_im_Koilocytotic.csv\"\n",
        "plot_distribution(path)"
      ],
      "metadata": {
        "colab": {
          "base_uri": "https://localhost:8080/",
          "height": 282
        },
        "id": "kHu_RBXO2oSB",
        "outputId": "9784bb12-b238-4203-b936-76466c816a73"
      },
      "execution_count": 21,
      "outputs": [
        {
          "output_type": "stream",
          "name": "stdout",
          "text": [
            "Existen 42 outliers de 825 datos\n"
          ]
        },
        {
          "output_type": "display_data",
          "data": {
            "text/plain": [
              "<Figure size 432x288 with 1 Axes>"
            ],
            "image/png": "[encoded data removed]"
          },
          "metadata": {
            "needs_background": "light"
          }
        }
      ]
    },
    {
      "cell_type": "markdown",
      "source": [
        "**Clase Dyskeratotic**"
      ],
      "metadata": {
        "id": "UcbGmBJ63ZIw"
      }
    },
    {
      "cell_type": "code",
      "source": [
        "path = \"MonografiaDataScience/tmp/lof_im_Dyskeratotic.csv\"\n",
        "plot_distribution(path)"
      ],
      "metadata": {
        "colab": {
          "base_uri": "https://localhost:8080/",
          "height": 282
        },
        "id": "e1X1UuUK2xWf",
        "outputId": "7db107ac-213d-49a1-e864-ce1a66b22bb5"
      },
      "execution_count": 22,
      "outputs": [
        {
          "output_type": "stream",
          "name": "stdout",
          "text": [
            "Existen 41 outliers de 813 datos\n"
          ]
        },
        {
          "output_type": "display_data",
          "data": {
            "text/plain": [
              "<Figure size 432x288 with 1 Axes>"
            ],
            "image/png": "[encoded data removed]"
          },
          "metadata": {
            "needs_background": "light"
          }
        }
      ]
    },
    {
      "cell_type": "markdown",
      "source": [
        "**Clase Metaplastic**"
      ],
      "metadata": {
        "id": "5joSI3aa3oX8"
      }
    },
    {
      "cell_type": "code",
      "source": [
        "path = \"MonografiaDataScience/tmp/lof_im_Metaplastic.csv\"\n",
        "plot_distribution(path)"
      ],
      "metadata": {
        "colab": {
          "base_uri": "https://localhost:8080/",
          "height": 284
        },
        "id": "lQQnElOy3gjb",
        "outputId": "0681a033-4cd4-4e58-c9d7-a604e24f395c"
      },
      "execution_count": 23,
      "outputs": [
        {
          "output_type": "stream",
          "name": "stdout",
          "text": [
            "Existen 40 outliers de 793 datos\n"
          ]
        },
        {
          "output_type": "display_data",
          "data": {
            "text/plain": [
              "<Figure size 432x288 with 1 Axes>"
            ],
            "image/png": "[encoded data removed]"
          },
          "metadata": {
            "needs_background": "light"
          }
        }
      ]
    },
    {
      "cell_type": "markdown",
      "source": [
        "**Clase Parabasal**"
      ],
      "metadata": {
        "id": "5fypmi0R30Pg"
      }
    },
    {
      "cell_type": "code",
      "source": [
        "path = \"MonografiaDataScience/tmp/lof_im_Parabasal.csv\"\n",
        "plot_distribution(path)"
      ],
      "metadata": {
        "colab": {
          "base_uri": "https://localhost:8080/",
          "height": 282
        },
        "id": "P5lDixtH3t5Q",
        "outputId": "10bc6f5a-11a2-46a5-a42f-9a2335b20264"
      },
      "execution_count": 24,
      "outputs": [
        {
          "output_type": "stream",
          "name": "stdout",
          "text": [
            "Existen 40 outliers de 787 datos\n"
          ]
        },
        {
          "output_type": "display_data",
          "data": {
            "text/plain": [
              "<Figure size 432x288 with 1 Axes>"
            ],
            "image/png": "[encoded data removed]"
          },
          "metadata": {
            "needs_background": "light"
          }
        }
      ]
    },
    {
      "cell_type": "markdown",
      "source": [
        "**Clase Superficial-Intermediate**"
      ],
      "metadata": {
        "id": "7rKfOfLu4IMR"
      }
    },
    {
      "cell_type": "code",
      "source": [
        "path = \"MonografiaDataScience/tmp/lof_im_Superficial-Intermediate.csv\"\n",
        "plot_distribution(path)"
      ],
      "metadata": {
        "colab": {
          "base_uri": "https://localhost:8080/",
          "height": 282
        },
        "id": "pn5OcYa938Ud",
        "outputId": "83e70d24-00d0-43ea-a8c2-c9d919f29831"
      },
      "execution_count": 25,
      "outputs": [
        {
          "output_type": "stream",
          "name": "stdout",
          "text": [
            "Existen 42 outliers de 831 datos\n"
          ]
        },
        {
          "output_type": "display_data",
          "data": {
            "text/plain": [
              "<Figure size 432x288 with 1 Axes>"
            ],
            "image/png": "[encoded data removed]"
          },
          "metadata": {
            "needs_background": "light"
          }
        }
      ]
    },
    {
      "cell_type": "code",
      "source": [],
      "metadata": {
        "id": "wx5g7O8Z4NbG"
      },
      "execution_count": null,
      "outputs": []
    }
  ]
}