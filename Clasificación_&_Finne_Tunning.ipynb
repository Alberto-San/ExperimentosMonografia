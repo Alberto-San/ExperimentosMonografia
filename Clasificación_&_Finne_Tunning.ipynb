{
  "nbformat": 4,
  "nbformat_minor": 0,
  "metadata": {
    "colab": {
      "provenance": [],
      "authorship_tag": "ABX9TyNBIBaD6DvAoudpvssZ0DwK",
      "include_colab_link": true
    },
    "kernelspec": {
      "name": "python3",
      "display_name": "Python 3"
    },
    "language_info": {
      "name": "python"
    }
  },
  "cells": [
    {
      "cell_type": "markdown",
      "metadata": {
        "id": "view-in-github",
        "colab_type": "text"
      },
      "source": [
        "<a href=\"https://colab.research.google.com/github/Alberto-San/ExperimentosMonografia/blob/main/Clasificaci%C3%B3n_%26_Finne_Tunning.ipynb\" target=\"_parent\"><img src=\"https://colab.research.google.com/assets/colab-badge.svg\" alt=\"Open In Colab\"/></a>"
      ]
    },
    {
      "cell_type": "markdown",
      "source": [
        "# **Modelo de detección de cáncer cervical en muestras de tejido celular utilizando Máquinas de Soporte Vectorial:** Monografía presentada​ para optar al título de ​Especialista en Analítica y Ciencia de Datos​\n",
        "\n",
        "**Estudiantes:**\n",
        "\n",
        "Daniel Alberto López Sánchez, Ing Electronico. e-mail: daniel.lopez6@udea.edu.co\n",
        "\n",
        "July Andrea Muñoz Lopera, Ing Industrial. e-mail: july.munoz@udea.edu.co\n",
        "<br>\n",
        "<br>\n",
        "\n",
        "**Asesora:**\n",
        "<br>\n",
        "Maria Bernarda Salazar Sánchez, PhD. e-mail: bernarda.salazar@udea.edu.co\n",
        "\n",
        "<br>\n",
        "\n",
        "Universidad de Antioquia\n",
        "<br>\n",
        "​Facultad de Ingeniería​\n",
        "<br>\n",
        "​​Especialización en Analítica y Ciencia de Datos​\n",
        "<br>\n",
        "​​Medellín, Antioquia, Colombia​\n",
        "<br>\n",
        "2023"
      ],
      "metadata": {
        "id": "6FMAzoquYf6c"
      }
    },
    {
      "cell_type": "markdown",
      "source": [
        "# Objetivo\n",
        "Este notebook tiene como objetivo entrenar un clasificador de Máquina de Soporte Vectorial (SVM) para clasificar las características del espacio ICA obtenidas en el notebook **Preprocesamiento.ipynb**"
      ],
      "metadata": {
        "id": "NajCRESHY-dV"
      }
    },
    {
      "cell_type": "markdown",
      "source": [
        "# Descarga de Característica Documento CSV\n",
        "Se descarga el repositorio MonografiaDataScience, el cual contiene el dataset de caracteristicas en la ruta ```MonografiaDataScience/tmp/filtered_data.csv```. Se divide los datos en terminos de train/test usando el proceso reportado en el notebook **Preprocesamiento.ipynb**, en el cual se usa la ```random_state=0```"
      ],
      "metadata": {
        "id": "OutJ94nEZiq3"
      }
    },
    {
      "cell_type": "code",
      "execution_count": 1,
      "metadata": {
        "colab": {
          "base_uri": "https://localhost:8080/"
        },
        "id": "-FUweiq5YT_R",
        "outputId": "cacc8b13-6aa9-46c9-ee35-d1749cb9da7d"
      },
      "outputs": [
        {
          "output_type": "stream",
          "name": "stdout",
          "text": [
            "Cloning into 'MonografiaDataScience'...\n",
            "remote: Enumerating objects: 179, done.\u001b[K\n",
            "remote: Counting objects: 100% (179/179), done.\u001b[K\n",
            "remote: Compressing objects: 100% (127/127), done.\u001b[K\n",
            "remote: Total 179 (delta 69), reused 141 (delta 41), pack-reused 0\u001b[K\n",
            "Receiving objects: 100% (179/179), 22.52 MiB | 2.91 MiB/s, done.\n",
            "Resolving deltas: 100% (69/69), done.\n"
          ]
        }
      ],
      "source": [
        "!git clone https://github.com/Alberto-San/MonografiaDataScience"
      ]
    },
    {
      "cell_type": "code",
      "source": [
        "from sklearn.model_selection import train_test_split\n",
        "import pandas as pd\n",
        "\n",
        "path = \"MonografiaDataScience/tmp/filtered_data.csv\"\n",
        "original_dataset = pd.read_csv(path)\n",
        "\n",
        "# Eliminando la columna image_path\n",
        "dataset = original_dataset.drop(\"image_path\", axis=1)\n",
        "\n",
        "# Obteniendo los descriptores y las etiquetas\n",
        "features, vector_label = dataset.drop(\"class\", axis=1), dataset[\"class\"] \n",
        "\n",
        "# Convirtiendo las etiquetas de string a numeros\n",
        "vector_numeric_label_dic = pd.factorize(vector_label)\n",
        "vector_numeric_label = vector_numeric_label_dic[0]\n",
        "vector_numeric_label_index = vector_numeric_label_dic[1]\n",
        "\n",
        "# Split data en train y test\n",
        "features_train, features_test, vector_label_train, vector_label_test = train_test_split(\n",
        "      features, vector_numeric_label, \n",
        "      test_size=0.2, \n",
        "      random_state=0, \n",
        "      stratify=vector_numeric_label\n",
        "    )"
      ],
      "metadata": {
        "id": "oc_Db4LNadei"
      },
      "execution_count": 4,
      "outputs": []
    },
    {
      "cell_type": "markdown",
      "source": [
        "# Descarga de Modelo de Reducción de Dimensionalidad\n",
        "Del notebook **Preprocesamiento.ipynb**, se dedujo que el método de reducción de dimensionalidad que representa mejor los datos y maximiza su separación es el de Análisis de Componentes Independientes (ICA). Se guardó este modelo en la ruta ```MonografiaDataScience/tmp/ica_model.joblib ```"
      ],
      "metadata": {
        "id": "66w4cNudazI1"
      }
    },
    {
      "cell_type": "code",
      "source": [
        "from joblib import load\n",
        "\n",
        "path_ica_model = \"MonografiaDataScience/tmp/ica_model.joblib\"\n",
        "\n",
        "# Cargar modelo\n",
        "ica_model = load(path_ica_model)\n",
        "\n",
        "# Transformacion data train y test a espacio ICA\n",
        "features_train_ica, features_test_ica = ica_model.transform(features_train), ica_model.transform(features_test)"
      ],
      "metadata": {
        "id": "CN4bqek7ayGK"
      },
      "execution_count": 8,
      "outputs": []
    },
    {
      "cell_type": "markdown",
      "source": [
        "# Máquina de Soporte Vectorial (SVM)\n",
        "Son un tipo de algoritmo de aprendizaje automático supervisado utilizado para la clasificación y la regresión. La idea detrás de las SVM es encontrar un hiperplano que separe óptimamente las diferentes clases de datos. En el caso de la clasificación, se busca un hiperplano que separe las diferentes clases de datos de manera que maximice la distancia (margen) entre las clases más cercanas al hiperplano. Los datos que se encuentran más cercanos al hiperplano se denominan vectores de soporte, de ahí el nombre de la técnica. Las máquinas de Soporte Vectorial en particular, son capaces de manejar datos de alta dimensionalidad y pueden generalizar bien a datos no vistos previamente. También son robustas a la presencia de datos atípicos y son relativamente sencillas de ajustar.\n",
        "\n",
        "# Configuración del Experimento\n",
        "Se usa el módulo ```SVC```de la librería sklearn. Para encontrar el mejor clasificador, se hace uso de una grilla de hiperparámetros, donde se evalúa el ``` accuracy ```, y se escoge el mejor clasificador que maximiza esta métrica"
      ],
      "metadata": {
        "id": "1Bzegbn6caTS"
      }
    },
    {
      "cell_type": "code",
      "source": [
        "from sklearn.svm import SVC\n",
        "from sklearn.metrics import accuracy_score, confusion_matrix\n",
        "\n",
        "# Definiendo los hiperparametros\n",
        "param_grid = {'C': [0.001, 0.01, 0.1, 1, 10, 100],\n",
        "              'gamma': ['scale', 'auto', 0.001, 0.01, 0.1, 1],\n",
        "              'kernel': ['rbf', 'sigmoid', 'linear', 'poly'],\n",
        "              'degree': [2, 3, 4],\n",
        "              'coef0': [-1, 0, 1]}\n",
        "\n",
        "# Set up a dictionary to store the results\n",
        "results = []\n",
        "\n",
        "# Loop sobre todas las combinaciones de los hiperparametros\n",
        "for C in param_grid['C']:\n",
        "    for gamma in param_grid['gamma']:\n",
        "        for kernel in param_grid['kernel']:\n",
        "            for degree in param_grid['degree']:\n",
        "                for coef0 in param_grid['coef0']:\n",
        "                    \n",
        "                    # Crear SVM con parametros\n",
        "                    svm = SVC(C=C, gamma=gamma, kernel=kernel, degree=degree, coef0=coef0)\n",
        "                    \n",
        "                    # Entrenar Modelo\n",
        "                    svm.fit(features_train_ica, vector_label_train)\n",
        "                    \n",
        "                    # Prediccion sobre data de test\n",
        "                    y_pred = svm.predict(features_test_ica)\n",
        "\n",
        "                    # Calculo Accuracy\n",
        "                    accuracy = accuracy_score(vector_label_test, y_pred)\n",
        "\n",
        "                    # Calculo de la matriz de confusion\n",
        "                    conf_mat = confusion_matrix(vector_label_test, y_pred)\n",
        "                    \n",
        "                    # Añadir Resultados\n",
        "                    results.append([C, gamma, kernel, degree, coef0, accuracy, conf_mat])"
      ],
      "metadata": {
        "id": "BaGlWmTBcHYl"
      },
      "execution_count": 12,
      "outputs": []
    },
    {
      "cell_type": "code",
      "source": [
        "summary_performance = pd.DataFrame(results, columns=[\"C\", \"gamma\", \"kernel\", \"degree\", \"coef0\", \"accuracy\", \"conf_mat\"])\n",
        "summary_performance.sort_values(by=[\"accuracy\"], ascending=False)"
      ],
      "metadata": {
        "colab": {
          "base_uri": "https://localhost:8080/",
          "height": 424
        },
        "id": "k3qnr9sRhERO",
        "outputId": "ef9b433f-cc42-4837-e223-0fa1ef86d310"
      },
      "execution_count": 13,
      "outputs": [
        {
          "output_type": "execute_result",
          "data": {
            "text/plain": [
              "          C  gamma kernel  degree  coef0  accuracy  \\\n",
              "1085  100.0  scale    rbf       3      1  0.946684   \n",
              "1082  100.0  scale    rbf       2      1  0.946684   \n",
              "1080  100.0  scale    rbf       2     -1  0.946684   \n",
              "1088  100.0  scale    rbf       4      1  0.946684   \n",
              "1087  100.0  scale    rbf       4      0  0.946684   \n",
              "...     ...    ...    ...     ...    ...       ...   \n",
              "1257  100.0    0.1   poly       4     -1  0.001300   \n",
              "1251  100.0    0.1   poly       2     -1  0.001300   \n",
              "1143  100.0   auto   poly       2     -1  0.001300   \n",
              "1293  100.0      1   poly       4     -1  0.001300   \n",
              "1071   10.0      1   poly       2     -1  0.001300   \n",
              "\n",
              "                                               conf_mat  \n",
              "1085  [[157, 0, 0, 0, 1], [0, 147, 0, 1, 6], [0, 1, ...  \n",
              "1082  [[157, 0, 0, 0, 1], [0, 147, 0, 1, 6], [0, 1, ...  \n",
              "1080  [[157, 0, 0, 0, 1], [0, 147, 0, 1, 6], [0, 1, ...  \n",
              "1088  [[157, 0, 0, 0, 1], [0, 147, 0, 1, 6], [0, 1, ...  \n",
              "1087  [[157, 0, 0, 0, 1], [0, 147, 0, 1, 6], [0, 1, ...  \n",
              "...                                                 ...  \n",
              "1257  [[0, 124, 4, 6, 24], [106, 0, 35, 11, 2], [89,...  \n",
              "1251  [[0, 123, 4, 6, 25], [111, 0, 30, 11, 2], [90,...  \n",
              "1143  [[0, 124, 3, 4, 27], [123, 0, 22, 9, 0], [95, ...  \n",
              "1293  [[0, 123, 6, 7, 22], [102, 0, 36, 13, 3], [87,...  \n",
              "1071  [[0, 123, 4, 6, 25], [111, 0, 30, 11, 2], [90,...  \n",
              "\n",
              "[1296 rows x 7 columns]"
            ],
            "text/html": [
              "\n",
              "  <div id=\"df-05cda226-a00c-4dcc-b206-981afb8fd758\">\n",
              "    <div class=\"colab-df-container\">\n",
              "      <div>\n",
              "<style scoped>\n",
              "    .dataframe tbody tr th:only-of-type {\n",
              "        vertical-align: middle;\n",
              "    }\n",
              "\n",
              "    .dataframe tbody tr th {\n",
              "        vertical-align: top;\n",
              "    }\n",
              "\n",
              "    .dataframe thead th {\n",
              "        text-align: right;\n",
              "    }\n",
              "</style>\n",
              "<table border=\"1\" class=\"dataframe\">\n",
              "  <thead>\n",
              "    <tr style=\"text-align: right;\">\n",
              "      <th></th>\n",
              "      <th>C</th>\n",
              "      <th>gamma</th>\n",
              "      <th>kernel</th>\n",
              "      <th>degree</th>\n",
              "      <th>coef0</th>\n",
              "      <th>accuracy</th>\n",
              "      <th>conf_mat</th>\n",
              "    </tr>\n",
              "  </thead>\n",
              "  <tbody>\n",
              "    <tr>\n",
              "      <th>1085</th>\n",
              "      <td>100.0</td>\n",
              "      <td>scale</td>\n",
              "      <td>rbf</td>\n",
              "      <td>3</td>\n",
              "      <td>1</td>\n",
              "      <td>0.946684</td>\n",
              "      <td>[[157, 0, 0, 0, 1], [0, 147, 0, 1, 6], [0, 1, ...</td>\n",
              "    </tr>\n",
              "    <tr>\n",
              "      <th>1082</th>\n",
              "      <td>100.0</td>\n",
              "      <td>scale</td>\n",
              "      <td>rbf</td>\n",
              "      <td>2</td>\n",
              "      <td>1</td>\n",
              "      <td>0.946684</td>\n",
              "      <td>[[157, 0, 0, 0, 1], [0, 147, 0, 1, 6], [0, 1, ...</td>\n",
              "    </tr>\n",
              "    <tr>\n",
              "      <th>1080</th>\n",
              "      <td>100.0</td>\n",
              "      <td>scale</td>\n",
              "      <td>rbf</td>\n",
              "      <td>2</td>\n",
              "      <td>-1</td>\n",
              "      <td>0.946684</td>\n",
              "      <td>[[157, 0, 0, 0, 1], [0, 147, 0, 1, 6], [0, 1, ...</td>\n",
              "    </tr>\n",
              "    <tr>\n",
              "      <th>1088</th>\n",
              "      <td>100.0</td>\n",
              "      <td>scale</td>\n",
              "      <td>rbf</td>\n",
              "      <td>4</td>\n",
              "      <td>1</td>\n",
              "      <td>0.946684</td>\n",
              "      <td>[[157, 0, 0, 0, 1], [0, 147, 0, 1, 6], [0, 1, ...</td>\n",
              "    </tr>\n",
              "    <tr>\n",
              "      <th>1087</th>\n",
              "      <td>100.0</td>\n",
              "      <td>scale</td>\n",
              "      <td>rbf</td>\n",
              "      <td>4</td>\n",
              "      <td>0</td>\n",
              "      <td>0.946684</td>\n",
              "      <td>[[157, 0, 0, 0, 1], [0, 147, 0, 1, 6], [0, 1, ...</td>\n",
              "    </tr>\n",
              "    <tr>\n",
              "      <th>...</th>\n",
              "      <td>...</td>\n",
              "      <td>...</td>\n",
              "      <td>...</td>\n",
              "      <td>...</td>\n",
              "      <td>...</td>\n",
              "      <td>...</td>\n",
              "      <td>...</td>\n",
              "    </tr>\n",
              "    <tr>\n",
              "      <th>1257</th>\n",
              "      <td>100.0</td>\n",
              "      <td>0.1</td>\n",
              "      <td>poly</td>\n",
              "      <td>4</td>\n",
              "      <td>-1</td>\n",
              "      <td>0.001300</td>\n",
              "      <td>[[0, 124, 4, 6, 24], [106, 0, 35, 11, 2], [89,...</td>\n",
              "    </tr>\n",
              "    <tr>\n",
              "      <th>1251</th>\n",
              "      <td>100.0</td>\n",
              "      <td>0.1</td>\n",
              "      <td>poly</td>\n",
              "      <td>2</td>\n",
              "      <td>-1</td>\n",
              "      <td>0.001300</td>\n",
              "      <td>[[0, 123, 4, 6, 25], [111, 0, 30, 11, 2], [90,...</td>\n",
              "    </tr>\n",
              "    <tr>\n",
              "      <th>1143</th>\n",
              "      <td>100.0</td>\n",
              "      <td>auto</td>\n",
              "      <td>poly</td>\n",
              "      <td>2</td>\n",
              "      <td>-1</td>\n",
              "      <td>0.001300</td>\n",
              "      <td>[[0, 124, 3, 4, 27], [123, 0, 22, 9, 0], [95, ...</td>\n",
              "    </tr>\n",
              "    <tr>\n",
              "      <th>1293</th>\n",
              "      <td>100.0</td>\n",
              "      <td>1</td>\n",
              "      <td>poly</td>\n",
              "      <td>4</td>\n",
              "      <td>-1</td>\n",
              "      <td>0.001300</td>\n",
              "      <td>[[0, 123, 6, 7, 22], [102, 0, 36, 13, 3], [87,...</td>\n",
              "    </tr>\n",
              "    <tr>\n",
              "      <th>1071</th>\n",
              "      <td>10.0</td>\n",
              "      <td>1</td>\n",
              "      <td>poly</td>\n",
              "      <td>2</td>\n",
              "      <td>-1</td>\n",
              "      <td>0.001300</td>\n",
              "      <td>[[0, 123, 4, 6, 25], [111, 0, 30, 11, 2], [90,...</td>\n",
              "    </tr>\n",
              "  </tbody>\n",
              "</table>\n",
              "<p>1296 rows × 7 columns</p>\n",
              "</div>\n",
              "      <button class=\"colab-df-convert\" onclick=\"convertToInteractive('df-05cda226-a00c-4dcc-b206-981afb8fd758')\"\n",
              "              title=\"Convert this dataframe to an interactive table.\"\n",
              "              style=\"display:none;\">\n",
              "        \n",
              "  <svg xmlns=\"http://www.w3.org/2000/svg\" height=\"24px\"viewBox=\"0 0 24 24\"\n",
              "       width=\"24px\">\n",
              "    <path d=\"M0 0h24v24H0V0z\" fill=\"none\"/>\n",
              "    <path d=\"M18.56 5.44l.94 2.06.94-2.06 2.06-.94-2.06-.94-.94-2.06-.94 2.06-2.06.94zm-11 1L8.5 8.5l.94-2.06 2.06-.94-2.06-.94L8.5 2.5l-.94 2.06-2.06.94zm10 10l.94 2.06.94-2.06 2.06-.94-2.06-.94-.94-2.06-.94 2.06-2.06.94z\"/><path d=\"M17.41 7.96l-1.37-1.37c-.4-.4-.92-.59-1.43-.59-.52 0-1.04.2-1.43.59L10.3 9.45l-7.72 7.72c-.78.78-.78 2.05 0 2.83L4 21.41c.39.39.9.59 1.41.59.51 0 1.02-.2 1.41-.59l7.78-7.78 2.81-2.81c.8-.78.8-2.07 0-2.86zM5.41 20L4 18.59l7.72-7.72 1.47 1.35L5.41 20z\"/>\n",
              "  </svg>\n",
              "      </button>\n",
              "      \n",
              "  <style>\n",
              "    .colab-df-container {\n",
              "      display:flex;\n",
              "      flex-wrap:wrap;\n",
              "      gap: 12px;\n",
              "    }\n",
              "\n",
              "    .colab-df-convert {\n",
              "      background-color: #E8F0FE;\n",
              "      border: none;\n",
              "      border-radius: 50%;\n",
              "      cursor: pointer;\n",
              "      display: none;\n",
              "      fill: #1967D2;\n",
              "      height: 32px;\n",
              "      padding: 0 0 0 0;\n",
              "      width: 32px;\n",
              "    }\n",
              "\n",
              "    .colab-df-convert:hover {\n",
              "      background-color: #E2EBFA;\n",
              "      box-shadow: 0px 1px 2px rgba(60, 64, 67, 0.3), 0px 1px 3px 1px rgba(60, 64, 67, 0.15);\n",
              "      fill: #174EA6;\n",
              "    }\n",
              "\n",
              "    [theme=dark] .colab-df-convert {\n",
              "      background-color: #3B4455;\n",
              "      fill: #D2E3FC;\n",
              "    }\n",
              "\n",
              "    [theme=dark] .colab-df-convert:hover {\n",
              "      background-color: #434B5C;\n",
              "      box-shadow: 0px 1px 3px 1px rgba(0, 0, 0, 0.15);\n",
              "      filter: drop-shadow(0px 1px 2px rgba(0, 0, 0, 0.3));\n",
              "      fill: #FFFFFF;\n",
              "    }\n",
              "  </style>\n",
              "\n",
              "      <script>\n",
              "        const buttonEl =\n",
              "          document.querySelector('#df-05cda226-a00c-4dcc-b206-981afb8fd758 button.colab-df-convert');\n",
              "        buttonEl.style.display =\n",
              "          google.colab.kernel.accessAllowed ? 'block' : 'none';\n",
              "\n",
              "        async function convertToInteractive(key) {\n",
              "          const element = document.querySelector('#df-05cda226-a00c-4dcc-b206-981afb8fd758');\n",
              "          const dataTable =\n",
              "            await google.colab.kernel.invokeFunction('convertToInteractive',\n",
              "                                                     [key], {});\n",
              "          if (!dataTable) return;\n",
              "\n",
              "          const docLinkHtml = 'Like what you see? Visit the ' +\n",
              "            '<a target=\"_blank\" href=https://colab.research.google.com/notebooks/data_table.ipynb>data table notebook</a>'\n",
              "            + ' to learn more about interactive tables.';\n",
              "          element.innerHTML = '';\n",
              "          dataTable['output_type'] = 'display_data';\n",
              "          await google.colab.output.renderOutput(dataTable, element);\n",
              "          const docLink = document.createElement('div');\n",
              "          docLink.innerHTML = docLinkHtml;\n",
              "          element.appendChild(docLink);\n",
              "        }\n",
              "      </script>\n",
              "    </div>\n",
              "  </div>\n",
              "  "
            ]
          },
          "metadata": {},
          "execution_count": 13
        }
      ]
    },
    {
      "cell_type": "markdown",
      "source": [
        "De la tabla anterior, podemos ver que el mejor kernel es rbf, con gamma como scale y C como 100. Degree y coef0 no son parámetros importantes porque solo afectan a los kernels poly y sigmoid. Dado que C=100 es un valor extremo, podría valer la pena explorar otros valores haciendo un experimento adicional."
      ],
      "metadata": {
        "id": "o5UAcYGPoVGw"
      }
    },
    {
      "cell_type": "code",
      "source": [
        "from sklearn.svm import SVC\n",
        "from sklearn.metrics import accuracy_score, confusion_matrix\n",
        "\n",
        "# Definiendo los hiperparametros\n",
        "param_grid = {'C': [10 + index for index in range(1, 100)],\n",
        "              'gamma': ['scale'],\n",
        "              'kernel': ['rbf'],\n",
        "            }\n",
        "\n",
        "# Set up a dictionary to store the results\n",
        "results_refined = []\n",
        "\n",
        "# Loop sobre todas las combinaciones de los hiperparametros\n",
        "for C in param_grid['C']:\n",
        "    for gamma in param_grid['gamma']:\n",
        "        for kernel in param_grid['kernel']:\n",
        "\n",
        "          # Crear SVM con parametros\n",
        "          svm = SVC(C=C, gamma=gamma, kernel=kernel)\n",
        "          \n",
        "          # Entrenar Modelo\n",
        "          svm.fit(features_train_ica, vector_label_train)\n",
        "          \n",
        "          # Prediccion sobre data de test\n",
        "          y_pred = svm.predict(features_test_ica)\n",
        "\n",
        "          # Calculo Accuracy\n",
        "          accuracy = accuracy_score(vector_label_test, y_pred)\n",
        "\n",
        "          # Calculo de la matriz de confusion\n",
        "          conf_mat = confusion_matrix(vector_label_test, y_pred)\n",
        "          \n",
        "          # Añadir Resultados\n",
        "          results_refined.append([C, gamma, kernel, accuracy, conf_mat])\n",
        "\n",
        "pd.DataFrame(results_refined, columns=[\"C\", \"gamma\", \"kernel\", \"accuracy\", \"conf_mat\"]).sort_values(by=[\"accuracy\"], ascending=False)\n"
      ],
      "metadata": {
        "colab": {
          "base_uri": "https://localhost:8080/",
          "height": 424
        },
        "id": "biaR7F0Gkkt1",
        "outputId": "1f8161fc-2875-4caf-eaba-694e5bc78562"
      },
      "execution_count": 18,
      "outputs": [
        {
          "output_type": "execute_result",
          "data": {
            "text/plain": [
              "     C  gamma kernel  accuracy  \\\n",
              "2   13  scale    rbf  0.949285   \n",
              "3   14  scale    rbf  0.949285   \n",
              "5   16  scale    rbf  0.949285   \n",
              "21  32  scale    rbf  0.947984   \n",
              "14  25  scale    rbf  0.947984   \n",
              "..  ..    ...    ...       ...   \n",
              "48  59  scale    rbf  0.945384   \n",
              "50  61  scale    rbf  0.945384   \n",
              "51  62  scale    rbf  0.945384   \n",
              "52  63  scale    rbf  0.945384   \n",
              "49  60  scale    rbf  0.945384   \n",
              "\n",
              "                                             conf_mat  \n",
              "2   [[158, 0, 0, 0, 0], [0, 143, 1, 1, 9], [0, 1, ...  \n",
              "3   [[158, 0, 0, 0, 0], [0, 144, 0, 1, 9], [0, 1, ...  \n",
              "5   [[158, 0, 0, 0, 0], [0, 145, 0, 1, 8], [0, 1, ...  \n",
              "21  [[158, 0, 0, 0, 0], [0, 145, 0, 1, 8], [0, 1, ...  \n",
              "14  [[158, 0, 0, 0, 0], [0, 145, 0, 1, 8], [0, 1, ...  \n",
              "..                                                ...  \n",
              "48  [[157, 0, 0, 0, 1], [0, 146, 0, 1, 7], [0, 1, ...  \n",
              "50  [[157, 0, 0, 0, 1], [0, 146, 0, 1, 7], [0, 1, ...  \n",
              "51  [[157, 0, 0, 0, 1], [0, 146, 0, 1, 7], [0, 1, ...  \n",
              "52  [[157, 0, 0, 0, 1], [0, 146, 0, 1, 7], [0, 1, ...  \n",
              "49  [[157, 0, 0, 0, 1], [0, 146, 0, 1, 7], [0, 1, ...  \n",
              "\n",
              "[99 rows x 5 columns]"
            ],
            "text/html": [
              "\n",
              "  <div id=\"df-c993768b-90d5-41d0-982c-6dc0efe27098\">\n",
              "    <div class=\"colab-df-container\">\n",
              "      <div>\n",
              "<style scoped>\n",
              "    .dataframe tbody tr th:only-of-type {\n",
              "        vertical-align: middle;\n",
              "    }\n",
              "\n",
              "    .dataframe tbody tr th {\n",
              "        vertical-align: top;\n",
              "    }\n",
              "\n",
              "    .dataframe thead th {\n",
              "        text-align: right;\n",
              "    }\n",
              "</style>\n",
              "<table border=\"1\" class=\"dataframe\">\n",
              "  <thead>\n",
              "    <tr style=\"text-align: right;\">\n",
              "      <th></th>\n",
              "      <th>C</th>\n",
              "      <th>gamma</th>\n",
              "      <th>kernel</th>\n",
              "      <th>accuracy</th>\n",
              "      <th>conf_mat</th>\n",
              "    </tr>\n",
              "  </thead>\n",
              "  <tbody>\n",
              "    <tr>\n",
              "      <th>2</th>\n",
              "      <td>13</td>\n",
              "      <td>scale</td>\n",
              "      <td>rbf</td>\n",
              "      <td>0.949285</td>\n",
              "      <td>[[158, 0, 0, 0, 0], [0, 143, 1, 1, 9], [0, 1, ...</td>\n",
              "    </tr>\n",
              "    <tr>\n",
              "      <th>3</th>\n",
              "      <td>14</td>\n",
              "      <td>scale</td>\n",
              "      <td>rbf</td>\n",
              "      <td>0.949285</td>\n",
              "      <td>[[158, 0, 0, 0, 0], [0, 144, 0, 1, 9], [0, 1, ...</td>\n",
              "    </tr>\n",
              "    <tr>\n",
              "      <th>5</th>\n",
              "      <td>16</td>\n",
              "      <td>scale</td>\n",
              "      <td>rbf</td>\n",
              "      <td>0.949285</td>\n",
              "      <td>[[158, 0, 0, 0, 0], [0, 145, 0, 1, 8], [0, 1, ...</td>\n",
              "    </tr>\n",
              "    <tr>\n",
              "      <th>21</th>\n",
              "      <td>32</td>\n",
              "      <td>scale</td>\n",
              "      <td>rbf</td>\n",
              "      <td>0.947984</td>\n",
              "      <td>[[158, 0, 0, 0, 0], [0, 145, 0, 1, 8], [0, 1, ...</td>\n",
              "    </tr>\n",
              "    <tr>\n",
              "      <th>14</th>\n",
              "      <td>25</td>\n",
              "      <td>scale</td>\n",
              "      <td>rbf</td>\n",
              "      <td>0.947984</td>\n",
              "      <td>[[158, 0, 0, 0, 0], [0, 145, 0, 1, 8], [0, 1, ...</td>\n",
              "    </tr>\n",
              "    <tr>\n",
              "      <th>...</th>\n",
              "      <td>...</td>\n",
              "      <td>...</td>\n",
              "      <td>...</td>\n",
              "      <td>...</td>\n",
              "      <td>...</td>\n",
              "    </tr>\n",
              "    <tr>\n",
              "      <th>48</th>\n",
              "      <td>59</td>\n",
              "      <td>scale</td>\n",
              "      <td>rbf</td>\n",
              "      <td>0.945384</td>\n",
              "      <td>[[157, 0, 0, 0, 1], [0, 146, 0, 1, 7], [0, 1, ...</td>\n",
              "    </tr>\n",
              "    <tr>\n",
              "      <th>50</th>\n",
              "      <td>61</td>\n",
              "      <td>scale</td>\n",
              "      <td>rbf</td>\n",
              "      <td>0.945384</td>\n",
              "      <td>[[157, 0, 0, 0, 1], [0, 146, 0, 1, 7], [0, 1, ...</td>\n",
              "    </tr>\n",
              "    <tr>\n",
              "      <th>51</th>\n",
              "      <td>62</td>\n",
              "      <td>scale</td>\n",
              "      <td>rbf</td>\n",
              "      <td>0.945384</td>\n",
              "      <td>[[157, 0, 0, 0, 1], [0, 146, 0, 1, 7], [0, 1, ...</td>\n",
              "    </tr>\n",
              "    <tr>\n",
              "      <th>52</th>\n",
              "      <td>63</td>\n",
              "      <td>scale</td>\n",
              "      <td>rbf</td>\n",
              "      <td>0.945384</td>\n",
              "      <td>[[157, 0, 0, 0, 1], [0, 146, 0, 1, 7], [0, 1, ...</td>\n",
              "    </tr>\n",
              "    <tr>\n",
              "      <th>49</th>\n",
              "      <td>60</td>\n",
              "      <td>scale</td>\n",
              "      <td>rbf</td>\n",
              "      <td>0.945384</td>\n",
              "      <td>[[157, 0, 0, 0, 1], [0, 146, 0, 1, 7], [0, 1, ...</td>\n",
              "    </tr>\n",
              "  </tbody>\n",
              "</table>\n",
              "<p>99 rows × 5 columns</p>\n",
              "</div>\n",
              "      <button class=\"colab-df-convert\" onclick=\"convertToInteractive('df-c993768b-90d5-41d0-982c-6dc0efe27098')\"\n",
              "              title=\"Convert this dataframe to an interactive table.\"\n",
              "              style=\"display:none;\">\n",
              "        \n",
              "  <svg xmlns=\"http://www.w3.org/2000/svg\" height=\"24px\"viewBox=\"0 0 24 24\"\n",
              "       width=\"24px\">\n",
              "    <path d=\"M0 0h24v24H0V0z\" fill=\"none\"/>\n",
              "    <path d=\"M18.56 5.44l.94 2.06.94-2.06 2.06-.94-2.06-.94-.94-2.06-.94 2.06-2.06.94zm-11 1L8.5 8.5l.94-2.06 2.06-.94-2.06-.94L8.5 2.5l-.94 2.06-2.06.94zm10 10l.94 2.06.94-2.06 2.06-.94-2.06-.94-.94-2.06-.94 2.06-2.06.94z\"/><path d=\"M17.41 7.96l-1.37-1.37c-.4-.4-.92-.59-1.43-.59-.52 0-1.04.2-1.43.59L10.3 9.45l-7.72 7.72c-.78.78-.78 2.05 0 2.83L4 21.41c.39.39.9.59 1.41.59.51 0 1.02-.2 1.41-.59l7.78-7.78 2.81-2.81c.8-.78.8-2.07 0-2.86zM5.41 20L4 18.59l7.72-7.72 1.47 1.35L5.41 20z\"/>\n",
              "  </svg>\n",
              "      </button>\n",
              "      \n",
              "  <style>\n",
              "    .colab-df-container {\n",
              "      display:flex;\n",
              "      flex-wrap:wrap;\n",
              "      gap: 12px;\n",
              "    }\n",
              "\n",
              "    .colab-df-convert {\n",
              "      background-color: #E8F0FE;\n",
              "      border: none;\n",
              "      border-radius: 50%;\n",
              "      cursor: pointer;\n",
              "      display: none;\n",
              "      fill: #1967D2;\n",
              "      height: 32px;\n",
              "      padding: 0 0 0 0;\n",
              "      width: 32px;\n",
              "    }\n",
              "\n",
              "    .colab-df-convert:hover {\n",
              "      background-color: #E2EBFA;\n",
              "      box-shadow: 0px 1px 2px rgba(60, 64, 67, 0.3), 0px 1px 3px 1px rgba(60, 64, 67, 0.15);\n",
              "      fill: #174EA6;\n",
              "    }\n",
              "\n",
              "    [theme=dark] .colab-df-convert {\n",
              "      background-color: #3B4455;\n",
              "      fill: #D2E3FC;\n",
              "    }\n",
              "\n",
              "    [theme=dark] .colab-df-convert:hover {\n",
              "      background-color: #434B5C;\n",
              "      box-shadow: 0px 1px 3px 1px rgba(0, 0, 0, 0.15);\n",
              "      filter: drop-shadow(0px 1px 2px rgba(0, 0, 0, 0.3));\n",
              "      fill: #FFFFFF;\n",
              "    }\n",
              "  </style>\n",
              "\n",
              "      <script>\n",
              "        const buttonEl =\n",
              "          document.querySelector('#df-c993768b-90d5-41d0-982c-6dc0efe27098 button.colab-df-convert');\n",
              "        buttonEl.style.display =\n",
              "          google.colab.kernel.accessAllowed ? 'block' : 'none';\n",
              "\n",
              "        async function convertToInteractive(key) {\n",
              "          const element = document.querySelector('#df-c993768b-90d5-41d0-982c-6dc0efe27098');\n",
              "          const dataTable =\n",
              "            await google.colab.kernel.invokeFunction('convertToInteractive',\n",
              "                                                     [key], {});\n",
              "          if (!dataTable) return;\n",
              "\n",
              "          const docLinkHtml = 'Like what you see? Visit the ' +\n",
              "            '<a target=\"_blank\" href=https://colab.research.google.com/notebooks/data_table.ipynb>data table notebook</a>'\n",
              "            + ' to learn more about interactive tables.';\n",
              "          element.innerHTML = '';\n",
              "          dataTable['output_type'] = 'display_data';\n",
              "          await google.colab.output.renderOutput(dataTable, element);\n",
              "          const docLink = document.createElement('div');\n",
              "          docLink.innerHTML = docLinkHtml;\n",
              "          element.appendChild(docLink);\n",
              "        }\n",
              "      </script>\n",
              "    </div>\n",
              "  </div>\n",
              "  "
            ]
          },
          "metadata": {},
          "execution_count": 18
        }
      ]
    },
    {
      "cell_type": "markdown",
      "source": [
        "Se observa que cambiar el valor de C contribuye significativamente a una mejora del modelo. Esto puede explicarse dado que C es un parametro de regularizacion. Un valor mayor de C crea un margen más estrecho, lo que puede resultar en un sobreajuste a los datos de entrenamiento, pero también puede conducir a un mejor rendimiento de generalización en nuevos datos.\n",
        "\n",
        " # Analisis de Resultados\n",
        " Se observa que el accuracy obtenido es de 94,92%. Sin embargo, es de interés explorar como son aquellas clasificaciones de cada una de las clases individuales, para lo cual se explora la matriz de confusión"
      ],
      "metadata": {
        "id": "_rRYPFiNqFe8"
      }
    },
    {
      "cell_type": "code",
      "source": [
        "import matplotlib.pyplot as plt\n",
        "import seaborn as sns\n",
        "\n",
        "\n",
        "# metricas generales\n",
        "data = pd.DataFrame(results_refined, columns=[\"C\", \"gamma\", \"kernel\", \"accuracy\", \"conf_mat\"]).sort_values(by=[\"accuracy\"], ascending=False)\n",
        "\n",
        "# matriz de confusion\n",
        "cm = data[\"conf_mat\"].iloc[0]\n",
        "\n",
        "# Graficar la matriz de confusión usando la biblioteca seaborn\n",
        "plt.figure(figsize=(8, 6))\n",
        "sns.heatmap(cm, annot=True, fmt='d', cmap='Blues')\n",
        "plt.title('Matriz de Confusión')\n",
        "plt.xlabel('Predicciones')\n",
        "plt.ylabel('Valores Verdaderos')\n",
        "plt.show()"
      ],
      "metadata": {
        "colab": {
          "base_uri": "https://localhost:8080/",
          "height": 564
        },
        "id": "fcCpmDcX1841",
        "outputId": "338397b7-e546-4915-a080-bfcc0bf33674"
      },
      "execution_count": 23,
      "outputs": [
        {
          "output_type": "display_data",
          "data": {
            "text/plain": [
              "<Figure size 800x600 with 2 Axes>"
            ],
            "image/png": "[encoded data removed]"
          },
          "metadata": {}
        }
      ]
    },
    {
      "cell_type": "markdown",
      "source": [
        "Se observan en general buenas métricas en cada uno de los valores reportados en las clases."
      ],
      "metadata": {
        "id": "bPEOe-U13Pcq"
      }
    },
    {
      "cell_type": "markdown",
      "source": [
        "## Permutation Importance\n",
        "La técnica de Permutation Importance es una técnica utilizada en aprendizaje automático para evaluar la importancia de las características (features) en un modelo. La idea detrás de la técnica es permutar aleatoriamente los valores de una característica en el conjunto de datos de prueba y medir cómo cambia el rendimiento del modelo. Si la permutación de la característica no afecta mucho el rendimiento del modelo, entonces se concluye que esa característica no es muy importante para el modelo. Por otro lado, si la permutación de la característica disminuye significativamente el rendimiento del modelo, entonces se concluye que esa característica es importante para el modelo."
      ],
      "metadata": {
        "id": "y1D5c60PZzYQ"
      }
    },
    {
      "cell_type": "code",
      "source": [
        "svm = SVC(C=13, gamma=\"scale\", kernel=\"rbf\", probability=True, random_state=0)\n",
        "svm.fit(features_train_ica, vector_label_train)"
      ],
      "metadata": {
        "colab": {
          "base_uri": "https://localhost:8080/",
          "height": 75
        },
        "id": "AB_dIkd4azQB",
        "outputId": "5d5cee46-31c4-44a9-bbe6-61003591b134"
      },
      "execution_count": 91,
      "outputs": [
        {
          "output_type": "execute_result",
          "data": {
            "text/plain": [
              "SVC(C=13, probability=True, random_state=0)"
            ],
            "text/html": [
              "<style>#sk-container-id-5 {color: black;background-color: white;}#sk-container-id-5 pre{padding: 0;}#sk-container-id-5 div.sk-toggleable {background-color: white;}#sk-container-id-5 label.sk-toggleable__label {cursor: pointer;display: block;width: 100%;margin-bottom: 0;padding: 0.3em;box-sizing: border-box;text-align: center;}#sk-container-id-5 label.sk-toggleable__label-arrow:before {content: \"▸\";float: left;margin-right: 0.25em;color: #696969;}#sk-container-id-5 label.sk-toggleable__label-arrow:hover:before {color: black;}#sk-container-id-5 div.sk-estimator:hover label.sk-toggleable__label-arrow:before {color: black;}#sk-container-id-5 div.sk-toggleable__content {max-height: 0;max-width: 0;overflow: hidden;text-align: left;background-color: #f0f8ff;}#sk-container-id-5 div.sk-toggleable__content pre {margin: 0.2em;color: black;border-radius: 0.25em;background-color: #f0f8ff;}#sk-container-id-5 input.sk-toggleable__control:checked~div.sk-toggleable__content {max-height: 200px;max-width: 100%;overflow: auto;}#sk-container-id-5 input.sk-toggleable__control:checked~label.sk-toggleable__label-arrow:before {content: \"▾\";}#sk-container-id-5 div.sk-estimator input.sk-toggleable__control:checked~label.sk-toggleable__label {background-color: #d4ebff;}#sk-container-id-5 div.sk-label input.sk-toggleable__control:checked~label.sk-toggleable__label {background-color: #d4ebff;}#sk-container-id-5 input.sk-hidden--visually {border: 0;clip: rect(1px 1px 1px 1px);clip: rect(1px, 1px, 1px, 1px);height: 1px;margin: -1px;overflow: hidden;padding: 0;position: absolute;width: 1px;}#sk-container-id-5 div.sk-estimator {font-family: monospace;background-color: #f0f8ff;border: 1px dotted black;border-radius: 0.25em;box-sizing: border-box;margin-bottom: 0.5em;}#sk-container-id-5 div.sk-estimator:hover {background-color: #d4ebff;}#sk-container-id-5 div.sk-parallel-item::after {content: \"\";width: 100%;border-bottom: 1px solid gray;flex-grow: 1;}#sk-container-id-5 div.sk-label:hover label.sk-toggleable__label {background-color: #d4ebff;}#sk-container-id-5 div.sk-serial::before {content: \"\";position: absolute;border-left: 1px solid gray;box-sizing: border-box;top: 0;bottom: 0;left: 50%;z-index: 0;}#sk-container-id-5 div.sk-serial {display: flex;flex-direction: column;align-items: center;background-color: white;padding-right: 0.2em;padding-left: 0.2em;position: relative;}#sk-container-id-5 div.sk-item {position: relative;z-index: 1;}#sk-container-id-5 div.sk-parallel {display: flex;align-items: stretch;justify-content: center;background-color: white;position: relative;}#sk-container-id-5 div.sk-item::before, #sk-container-id-5 div.sk-parallel-item::before {content: \"\";position: absolute;border-left: 1px solid gray;box-sizing: border-box;top: 0;bottom: 0;left: 50%;z-index: -1;}#sk-container-id-5 div.sk-parallel-item {display: flex;flex-direction: column;z-index: 1;position: relative;background-color: white;}#sk-container-id-5 div.sk-parallel-item:first-child::after {align-self: flex-end;width: 50%;}#sk-container-id-5 div.sk-parallel-item:last-child::after {align-self: flex-start;width: 50%;}#sk-container-id-5 div.sk-parallel-item:only-child::after {width: 0;}#sk-container-id-5 div.sk-dashed-wrapped {border: 1px dashed gray;margin: 0 0.4em 0.5em 0.4em;box-sizing: border-box;padding-bottom: 0.4em;background-color: white;}#sk-container-id-5 div.sk-label label {font-family: monospace;font-weight: bold;display: inline-block;line-height: 1.2em;}#sk-container-id-5 div.sk-label-container {text-align: center;}#sk-container-id-5 div.sk-container {/* jupyter's `normalize.less` sets `[hidden] { display: none; }` but bootstrap.min.css set `[hidden] { display: none !important; }` so we also need the `!important` here to be able to override the default hidden behavior on the sphinx rendered scikit-learn.org. See: https://github.com/scikit-learn/scikit-learn/issues/21755 */display: inline-block !important;position: relative;}#sk-container-id-5 div.sk-text-repr-fallback {display: none;}</style><div id=\"sk-container-id-5\" class=\"sk-top-container\"><div class=\"sk-text-repr-fallback\"><pre>SVC(C=13, probability=True, random_state=0)</pre><b>In a Jupyter environment, please rerun this cell to show the HTML representation or trust the notebook. <br />On GitHub, the HTML representation is unable to render, please try loading this page with nbviewer.org.</b></div><div class=\"sk-container\" hidden><div class=\"sk-item\"><div class=\"sk-estimator sk-toggleable\"><input class=\"sk-toggleable__control sk-hidden--visually\" id=\"sk-estimator-id-5\" type=\"checkbox\" checked><label for=\"sk-estimator-id-5\" class=\"sk-toggleable__label sk-toggleable__label-arrow\">SVC</label><div class=\"sk-toggleable__content\"><pre>SVC(C=13, probability=True, random_state=0)</pre></div></div></div></div></div>"
            ]
          },
          "metadata": {},
          "execution_count": 91
        }
      ]
    },
    {
      "cell_type": "code",
      "source": [
        "from sklearn.inspection import permutation_importance\n",
        "import numpy as np \n",
        "\n",
        "# Computando la tecnica de permutation importance sobre el conjunto de test. \n",
        "perm_importance = permutation_importance(svm, features_test_ica, vector_label_test, n_repeats=10, random_state=0)\n",
        "feature_importance = perm_importance.importances_mean\n",
        "\n",
        "# Formateando los resultados\n",
        "forest_importances = pd.Series(feature_importance, index=[\"feature_{}_ica\".format(index) for index in range(1, features_test_ica.shape[1] + 1)])\n",
        "\n",
        "# Seteando el plot\n",
        "fig, ax = plt.subplots()\n",
        "forest_importances.plot.bar(yerr=perm_importance.importances_std, ax=ax)\n",
        "ax.set_title(\"Importancia de Características Utilizando Permutation Importance\")\n",
        "ax.set_ylabel(\"Disminución del Promedio del Accuracy\")\n",
        "fig.tight_layout()\n",
        "plt.show()"
      ],
      "metadata": {
        "colab": {
          "base_uri": "https://localhost:8080/",
          "height": 487
        },
        "id": "ZxHAgGMaaPne",
        "outputId": "d6058ffa-f1ec-4a06-9cfd-cfc6fe1f8474"
      },
      "execution_count": 92,
      "outputs": [
        {
          "output_type": "display_data",
          "data": {
            "text/plain": [
              "<Figure size 640x480 with 1 Axes>"
            ],
            "image/png": "[encoded data removed]"
          },
          "metadata": {}
        }
      ]
    },
    {
      "cell_type": "markdown",
      "source": [
        "Después de analizar la importancia de las características en el modelo, se observa que la característica más importante es la **feature_1_ica**. Sin embargo, se encuentra que varias características tienen valores de importancia muy similares, siendo la número **18** la que contribuye menos a los resultados del modelo.\n",
        "\n",
        "Para encontrar las características del espacio original que influyen más en la componente 1 del espacio ICA, se puede usar la matriz de mezcla y la matriz de separación para identificar las características con los valores más relevantes."
      ],
      "metadata": {
        "id": "8ADi3q29bPaf"
      }
    },
    {
      "cell_type": "code",
      "source": [
        "# Definir el número de componente independiente que le interesa\n",
        "componente = 0\n",
        "\n",
        "# Obtener la matriz de componentes independientes\n",
        "S = features_test_ica\n",
        "\n",
        "# Obtener la matriz de mezcla\n",
        "A = ica_model.mixing_\n",
        "Abs_A = np.abs(A[:, componente])\n",
        "components = dataset.columns[1:]\n",
        "\n",
        "A_df = pd.DataFrame({'Absolute Components': Abs_A}, index=components)\n",
        "A_df.plot.bar()"
      ],
      "metadata": {
        "colab": {
          "base_uri": "https://localhost:8080/",
          "height": 509
        },
        "id": "H6yIc6dYeQIg",
        "outputId": "8da71a46-c0c0-4000-a81d-f3290c8caf40"
      },
      "execution_count": 125,
      "outputs": [
        {
          "output_type": "execute_result",
          "data": {
            "text/plain": [
              "<Axes: >"
            ]
          },
          "metadata": {},
          "execution_count": 125
        },
        {
          "output_type": "display_data",
          "data": {
            "text/plain": [
              "<Figure size 640x480 with 1 Axes>"
            ],
            "image/png": "[encoded data removed]"
          },
          "metadata": {}
        }
      ]
    },
    {
      "cell_type": "markdown",
      "source": [
        "Se observa, que para la característica ICA 0, las componentes que mas influyen del espacio original son la 3, 10, 17, que corresponden respectivamente a:\n",
        "* Tercer Momento del espacio R\n",
        "* Tercer Momento del espacio G\n",
        "* Tercer Momento del espacio B\n",
        "\n",
        "El cálculo del tercer momento es importante en estadística y probabilidad porque proporciona información sobre la forma y simetría de una distribución de datos. El tercer momento es una medida de asimetría, que indica si una distribución está sesgada hacia la derecha o hacia la izquierda en relación a su media. Para este caso en particular, el tercer momento está ligado con la simetría que tiene la imagen, dado que diferentes clases de células poseen diferentes formas variadas"
      ],
      "metadata": {
        "id": "GukLUhpditgc"
      }
    },
    {
      "cell_type": "markdown",
      "source": [
        "# Comparación de resultados\n",
        "Para la extracción de características, nos basamos en el artículo **Sipakmed: A New Dataset for Feature and Image Based Classification of Normal and Pathological Cervical Cells in Pap Smear Images**. En este artículo, se reportó un accuracy del 91,68% utilizando características celulares. Sin embargo, con nuestro enfoque, obtuvimos un 94,92% utilizando una SVM con kernel rbf, gamma scale y C=100. Observamos una mejor al utilizar ICA como espacio de características.\n",
        "\n",
        "Se materializa el modelo SVM y se guarda de manera **manual** en el repositorio MonografiaDataScience, debido a que colab no puede hacer push directo a github"
      ],
      "metadata": {
        "id": "zrsCoZqsp8yu"
      }
    },
    {
      "cell_type": "code",
      "source": [
        "from joblib import dump\n",
        "\n",
        "# Guardando modelo\n",
        "dump(svm, 'svm_model.joblib')"
      ],
      "metadata": {
        "colab": {
          "base_uri": "https://localhost:8080/"
        },
        "id": "UNTMhI1ppcUb",
        "outputId": "a927e1b2-ab80-45db-eb4e-2817ce92c33e"
      },
      "execution_count": 88,
      "outputs": [
        {
          "output_type": "execute_result",
          "data": {
            "text/plain": [
              "['svm_model.joblib']"
            ]
          },
          "metadata": {},
          "execution_count": 88
        }
      ]
    },
    {
      "cell_type": "code",
      "source": [],
      "metadata": {
        "id": "KegzuOuya_KN"
      },
      "execution_count": null,
      "outputs": []
    }
  ]
}
