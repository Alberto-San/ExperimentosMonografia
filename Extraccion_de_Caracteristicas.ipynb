{
  "nbformat": 4,
  "nbformat_minor": 0,
  "metadata": {
    "colab": {
      "provenance": []
    },
    "kernelspec": {
      "name": "python3",
      "display_name": "Python 3"
    },
    "language_info": {
      "name": "python"
    }
  },
  "cells": [
    {
      "cell_type": "markdown",
      "source": [
        "# **Modelo de clasificación de cáncer cervical en muestras de tejido celular utilizando técnicas de aprendizaje automático:** Monografía presentada​ para optar al título de ​Especialista en Analítica y Ciencia de Datos​\n",
        "\n",
        "**Estudiantes:** <br>\n",
        "Daniel Alberto López Sánchez, Ing Electronico. e-mail: daniel.lopez6@udea.edu.co <br>\n",
        "July Andrea Muñoz Lopera, Ing Industrial. e-mail: july.munoz@udea.edu.co\n",
        "\n",
        "**Asesora:** <br>\n",
        "Maria Bernarda Salazar Sánchez, PhD. e-mail: bernarda.salazar@udea.edu.co\n",
        "\n",
        "<br>\n",
        "Universidad de Antioquia <br>\n",
        "​Facultad de Ingeniería​ <br>\n",
        "​​Especialización en Analítica y Ciencia de Datos​ <br>\n",
        "​​Medellín, Antioquia, Colombia​ <br>\n",
        "2023"
      ],
      "metadata": {
        "id": "lAX8CDAKEfev"
      }
    },
    {
      "cell_type": "markdown",
      "source": [
        "# Objetivo\n",
        "Este notebook tiene como objetivo extraer información relevante de las imágenes de cada una de las clases. A través de estos descriptores se puede identificar y capturar patrones y características específicas de las imágenes, las cuales pueden ser utilizadas para clasificar y agrupar las imágenes en diferentes categorías."
      ],
      "metadata": {
        "id": "GgD3cwg6Eu45"
      }
    },
    {
      "cell_type": "markdown",
      "source": [
        "# Configuración de librerías, APIS y descarga de dataset\n",
        "\n",
        "En esta sección, se presentan módulos clave que son fundamentales para el desarrollo del experimento. Específicamente, estos módulos se encuentran alojados en el repositorio de GitHub \"MonografiaDataScience\", el cual se descarga previamente mediante el comando ```git clone https://github.com/Alberto-San/MonografiaDataScience```. El comando anterior crea una carpeta en el espacio de colab con el nombre MonografiaDataScience, la cual contiene diversas funciones necesarias para la extracción de características."
      ],
      "metadata": {
        "id": "WcweOUdEF_eG"
      }
    },
    {
      "cell_type": "code",
      "source": [
        "!git clone https://github.com/Alberto-San/MonografiaDataScience"
      ],
      "metadata": {
        "colab": {
          "base_uri": "https://localhost:8080/"
        },
        "id": "WdYUzAFIJJZA",
        "outputId": "efddc731-a1d9-44b7-a193-7a777409d707"
      },
      "execution_count": null,
      "outputs": [
        {
          "output_type": "stream",
          "name": "stdout",
          "text": [
            "fatal: destination path 'MonografiaDataScience' already exists and is not an empty directory.\n"
          ]
        }
      ]
    },
    {
      "cell_type": "markdown",
      "source": [
        "## Base de datos Sipakmed\n",
        "La Base de datos SIPaKMeD consiste en 4049 imágenes de células aisladas que han sido recortadas manualmente a partir de 966 imágenes de grupos de células en láminas de Papanicolaou. Estas imágenes fueron adquiridas a través de una cámara CCD adaptada a un microscopio óptico. Las imágenes de células se dividen en cinco categorías que contienen células normales, anormales y benignas.\n",
        "\n",
        "Las 5 grandes categorías son:\n",
        "* Koilocytotic\n",
        "* Superficial-Intermediate\n",
        "* Metaplastic\n",
        "* Dyskeratotic\n",
        "* Parabasal\n",
        "\n"
      ],
      "metadata": {
        "id": "w3meBXJjHNu2"
      }
    },
    {
      "cell_type": "markdown",
      "source": [
        "Para descargar la base de datos, se necesitan seguir algunos pasos:\n",
        "\n",
        "* Instalar la biblioteca kaggle en el entorno de Colab, mediante el comando ```pip install kaggle```.\n",
        "* Descargar el archivo JSON de la API-key de Kaggle a través de la página web de Kaggle.\n",
        "* Configurar las variables de entorno que requiere la biblioteca kaggle, mediante los comandos ```\"os.environ['KAGGLE_USERNAME'] = '%%USERNAME%%'\"``` y ```\"os.environ['KAGGLE_KEY'] = '%%API_KEY%%'\"```.\n",
        "* Descargar la base de datos utilizando el comando ```!kaggle datasets download -d prahladmehandiratta/cervical-cancer-largest-dataset-sipakmed -p sipakmed --unzip```.\n",
        "\n",
        "\n",
        "Para este caso en particular, y con el objetivo de reproducir el experimento fácilmente, se deja visible el API-key usado, y se crea el archivo JSON de manera manual, al igual que la configuración de las variables de entorno."
      ],
      "metadata": {
        "id": "RyW-ZFl_S0-a"
      }
    },
    {
      "cell_type": "code",
      "source": [
        "import json\n",
        "\n",
        "# Cargar archivo JSON en una cadena\n",
        "api_token = '{\"username\":\"daniellpez2\",\"key\":\"cdfc04075fcd22835f527b5f5fa40af7\"}'\n",
        "\n",
        "# Convertir cadena en un objeto JSON\n",
        "api_token = json.loads(api_token)\n",
        "\n",
        "# Crear archivo temporal que contiene el contenido de la cadena\n",
        "with open('kaggle.json', 'w') as file:\n",
        "    json.dump(api_token, file)\n",
        "\n",
        "# Establecer variables de entorno para la API de Kaggle\n",
        "import os\n",
        "os.environ['KAGGLE_USERNAME'] = api_token['username']\n",
        "os.environ['KAGGLE_KEY'] = api_token['key']"
      ],
      "metadata": {
        "id": "haOcIRqEJ73c"
      },
      "execution_count": null,
      "outputs": []
    },
    {
      "cell_type": "markdown",
      "source": [
        "Se instala la librería y se descarga la base de datos como se mencionó en los pasos anteriores."
      ],
      "metadata": {
        "id": "1iJ3jAaOUiLT"
      }
    },
    {
      "cell_type": "code",
      "execution_count": null,
      "metadata": {
        "colab": {
          "base_uri": "https://localhost:8080/"
        },
        "id": "d5y6yZ6WEaNB",
        "outputId": "897fd2e5-621f-4d08-8a9f-f80dece9de14"
      },
      "outputs": [
        {
          "output_type": "stream",
          "name": "stdout",
          "text": [
            "Looking in indexes: https://pypi.org/simple, https://us-python.pkg.dev/colab-wheels/public/simple/\n",
            "Requirement already satisfied: kaggle in /usr/local/lib/python3.10/dist-packages (1.5.13)\n",
            "Requirement already satisfied: six>=1.10 in /usr/local/lib/python3.10/dist-packages (from kaggle) (1.16.0)\n",
            "Requirement already satisfied: certifi in /usr/local/lib/python3.10/dist-packages (from kaggle) (2022.12.7)\n",
            "Requirement already satisfied: python-dateutil in /usr/local/lib/python3.10/dist-packages (from kaggle) (2.8.2)\n",
            "Requirement already satisfied: requests in /usr/local/lib/python3.10/dist-packages (from kaggle) (2.27.1)\n",
            "Requirement already satisfied: tqdm in /usr/local/lib/python3.10/dist-packages (from kaggle) (4.65.0)\n",
            "Requirement already satisfied: python-slugify in /usr/local/lib/python3.10/dist-packages (from kaggle) (8.0.1)\n",
            "Requirement already satisfied: urllib3 in /usr/local/lib/python3.10/dist-packages (from kaggle) (1.26.15)\n",
            "Requirement already satisfied: text-unidecode>=1.3 in /usr/local/lib/python3.10/dist-packages (from python-slugify->kaggle) (1.3)\n",
            "Requirement already satisfied: charset-normalizer~=2.0.0 in /usr/local/lib/python3.10/dist-packages (from requests->kaggle) (2.0.12)\n",
            "Requirement already satisfied: idna<4,>=2.5 in /usr/local/lib/python3.10/dist-packages (from requests->kaggle) (3.4)\n",
            "Downloading cervical-cancer-largest-dataset-sipakmed.zip to sipakmed\n",
            "100% 6.38G/6.40G [01:03<00:00, 117MB/s]\n",
            "100% 6.40G/6.40G [01:03<00:00, 109MB/s]\n"
          ]
        }
      ],
      "source": [
        "!pip install kaggle\n",
        "!kaggle datasets download -d prahladmehandiratta/cervical-cancer-largest-dataset-sipakmed -p sipakmed --unzip"
      ]
    },
    {
      "cell_type": "markdown",
      "source": [
        "# **Características**\n",
        "\n",
        "Una vez que el conjunto de datos ha sido descargado, el siguiente paso es extraer las características del mismo. Para esto, se sigue el procedimiento descrito por *Plissiti et al* en su artículo **Sipakmed: A New Dataset for Feature and Image Based Classification of Normal and Pathological Cervical Cells in Pap Smear Images**, en el cual extraen las siguientes características para cada una de las dimensiones de color (R, G, B) de las imágenes:\n",
        "* Intensidad promedio: Se define como la media de la imagen\n",
        "* Suavidad: Se define como el promedio del valor absoluto de la imagen al aplicar un filtro laplaciano\n",
        "* Uniformidad: Se define como las suma de las diferencias al cuadrado entre la imagen al aplicar un filtro guassiano, y la imagen al aplicar multiples veces el filtro gaussiano\n",
        "* Tercer Momento: Se define como el tercer momento de la distribucion de la imagen como vector. \n",
        "* Entropia: Se define como la entropia de shannon al considerar la distribucion de frecuencias de la imagen como distribucion de probabilidad\n",
        "* Desviacion estandar: Se define como la desviacion estandar de la imagen\n",
        "* Mediana: Se define como la mediana de la imagen\n",
        "* Contraste promedio: Se define como la media de la luminancia de la imagen\n",
        "\n",
        "\n",
        "Para llevar a cabo la extracción de características mencionada anteriormente, se utiliza el módulo ```FeaturesAPI/Experiment_color``` del paquete ```MonografiaDataScience```. Específicamente, se utilizan las clases ```CervicalCancerContentReader```, ```CalculateImageClasicalFeatures``` y la interfaz de variables ```constants```.\n"
      ],
      "metadata": {
        "id": "4WsfvvLEVS26"
      }
    },
    {
      "cell_type": "code",
      "source": [
        "import os\n",
        "import sys\n",
        "import warnings\n",
        "warnings.filterwarnings('ignore')\n",
        "\n",
        "# Funcion auxiliar que permite accesar a los modulos de MonografiaDataScience\n",
        "def cd_into(folder):\n",
        "  sys.path.append(os.path.abspath(os.path.join(os.path.dirname(\".\"), folder)))\n",
        "\n",
        "# Acceso a los modulos de FeaturesAPI/Experiment_color\n",
        "cd_into(\"MonografiaDataScience/FeaturesAPI/Experiment_color\")"
      ],
      "metadata": {
        "id": "itx6ehjRMQzE"
      },
      "execution_count": null,
      "outputs": []
    },
    {
      "cell_type": "code",
      "source": [
        "# Importando librerias y funcionalidades requeridas\n",
        "import cv2\n",
        "from scipy.stats import moment\n",
        "from CervicalCancerContentReader import *\n",
        "from CalculateImageClasicalFeatures import *\n",
        "from constants import *\n",
        "import multiprocessing\n",
        "\n",
        "# Funcion que permite obtener las componentes R,G, B de una imagen y permite escalarla a la resolucion objetivo:\n",
        "# (220, 220)\n",
        "def get_color_component(path):\n",
        "    print(\"path: {}\".format(path))\n",
        "    image_bgr = cv2.imread(path)\n",
        "    color_component = cv2.resize(image_bgr, size, interpolation=cv2.INTER_LINEAR)\n",
        "    return color_component\n",
        "\n",
        "# Funcion que permite obtener la informacion de los descriptores previamente mencionados por cada canal (R, G, B)\n",
        "# Ademas de esto, recolecta la informacion de la clase a la que pertenece el descriptor y el path de la imagen\n",
        "def get_descriptor(args):\n",
        "    index, label, image_paths, image_component, hanlder = args\n",
        "    return [label, image_paths[index]] + hanlder.calculate_features(image_component)\n",
        "\n",
        "# Funcion que permite obtener la informacion de los descriptores previamente mencionados por cada canal (R, G, B)\n",
        "# haciendo uso de logica multiproceso\n",
        "def calculate_features_label(label, categories_content):\n",
        "    hanlder = CalculateImageClasicalFeatures(\"bgr\") # se define el objeto de la funcion que permite calcular las caracteristicas\n",
        "    image_paths = categories_content[label][IMAGE_PATH_KEY] # Se obtiene una lista de los paths de las imagenes que pertenecen a la categoria a procesar.\n",
        "    num_processes = multiprocessing.cpu_count() # Se reconoce el numero de nucleos de la cpu de servidor de colab\n",
        "    pool = multiprocessing.Pool(num_processes) \n",
        "    print(\"Reading Images\")\n",
        "    im_list = pool.map(get_color_component, image_paths) # Se ejecuta la funcion sobre los diferentes path de manera concurrente\n",
        "    function_args = [(index, label, image_paths, im_list[index], hanlder) for index in range(len(im_list))]\n",
        "    print(\"Getting Descriptors\")\n",
        "    features = pool.map(get_descriptor, function_args) # Se ejecuta la funcion sobre los diferentes datos de manera concurrente\n",
        "    return features"
      ],
      "metadata": {
        "id": "q3pDjtEYUd-o"
      },
      "execution_count": null,
      "outputs": []
    },
    {
      "cell_type": "markdown",
      "source": [
        "Se define el proceso de extracion de caracteristicas de la siguiente manera:\n",
        "\n",
        "1. Se lee el contenido del dataset\n",
        "2. Se lee la informacion de las diferentes categorias/clases (Koilocytotic, Superficial-Intermediate, Metaplastic, Dyskeratotic, Parabasal).\n",
        "3. Por cada una de las categorias se recolecta la siguiente informacion\n",
        "  * Clase a la que pertenece: nombre de la categoria que se analiza\n",
        "  * Path de la imagen: ruta relativa del path de la imagen analizada\n",
        "  * Feature 1, ..., Feature N: caracteristicas previamente mencionadas que se recolentan de cada una de las imagenes.\n"
      ],
      "metadata": {
        "id": "h71neoPJYx0a"
      }
    },
    {
      "cell_type": "code",
      "source": [
        "import pandas as pd\n",
        "\n",
        "sub_folder = \"CROPPED\" # Subfolder de la base de datos\n",
        "image_extension = \"bmp\" # Extension de las imagenes de la base de datos\n",
        "data_extension = \"dat\" # Extension de los archivos de metadatos de la base de datos\n",
        "dataset_output_path = \"/content/sipakmed\" # carpeta donde se encuentra la informacion (imagenes) de la base de datos\n",
        "size = (220, 220) # Resolucion objetivo para estandarizar cada uno de los recortes de imagenes de las diferentes clases \n",
        "\n",
        "# Funcionalidad personalizada que se encarga de leer la informacion del dataset SipakMed.\n",
        "# La logica se encuentra en el respositorio MonografiaDataScience\n",
        "categories_content = CervicalCancerContentReader(\n",
        "                        dataset_output_path,\n",
        "                        image_extension,\n",
        "                        data_extension,\n",
        "                        sub_folder\n",
        "                    ).read() \n",
        "\n",
        "# Lectura de las diferentes categorias de la base de datos:  Koilocytotic, Superficial-Intermediate, Metaplastic\n",
        "# Dyskeratotic, Parabasal\n",
        "labels = list(categories_content.keys())\n",
        "\n",
        "accum_list = [] # placeholder para guardar la informacion de los descriptores y los datos\n",
        "accum_labels = [] # placeholder que contiene el nombre de las cabeceras\n",
        "flag_define_labels = False\n",
        "\n",
        "for label in labels:\n",
        "    [accum_list.append(feature) for feature in calculate_features_label(label, categories_content)]\n",
        "\n",
        "    if not(flag_define_labels):\n",
        "        accum_labels = [\"feature_{}\".format(index) for index in range(len(accum_list[0])-2)]\n",
        "        flag_define_labels = True\n",
        "    \n",
        "# Se define el nombre de las columnas\n",
        "columns = [\n",
        "    \"class\",\n",
        "    \"image_path\"\n",
        "    ] + accum_labels\n",
        "\n",
        "# Se crea un dataframe con la informacion de los descriptores y datos\n",
        "df = pd.DataFrame(accum_list, columns=columns)\n",
        "\n",
        "# Se materializa el dataframe como archivo csv en colab\n",
        "df.to_csv(\"color_statistics.csv\", index=False)"
      ],
      "metadata": {
        "id": "GIxmY6bkYRqm",
        "colab": {
          "base_uri": "https://localhost:8080/"
        },
        "outputId": "56423762-6115-4b36-d98e-40d2802413f5"
      },
      "execution_count": 25,
      "outputs": [
        {
          "output_type": "stream",
          "name": "stdout",
          "text": [
            
          ]
        }
      ]
    },
    {
      "cell_type": "markdown",
      "source": [
        "Se ilustran a continuación las estadísticas de cada una de las columnas del archivo CSV."
      ],
      "metadata": {
        "id": "FVZUjrzYaguC"
      }
    },
    {
      "cell_type": "code",
      "source": [
        "df.describe()"
      ],
      "metadata": {
        "id": "7B23hImWZFx5",
        "colab": {
          "base_uri": "https://localhost:8080/",
          "height": 393
        },
        "outputId": "845d4bf4-9a50-4f13-bfed-6068158f04e8"
      },
      "execution_count": 26,
      "outputs": [
        {
          "output_type": "execute_result",
          "data": {
            "text/plain": [
              "         feature_0    feature_1    feature_2      feature_3    feature_4  \\\n",
              "count  4049.000000  4049.000000  4049.000000    4049.000000  4049.000000   \n",
              "mean    156.325574     0.013050     0.050097    4937.435138     6.274991   \n",
              "std      47.200665     0.006448     0.069130   36217.317387     0.730330   \n",
              "min      32.180145     0.001120     0.001113 -223977.273661     0.447899   \n",
              "25%     122.668864     0.007893     0.009755   -5855.160978     5.899003   \n",
              "50%     161.878223     0.011377     0.027184    -367.480824     6.346107   \n",
              "75%     189.791550     0.017283     0.061226    8078.139421     6.783356   \n",
              "max     254.171756     0.034033     0.803293  366650.108983     7.621974   \n",
              "\n",
              "         feature_5    feature_6    feature_7    feature_8    feature_9  ...  \\\n",
              "count  4049.000000  4049.000000  4049.000000  4049.000000  4049.000000  ...   \n",
              "mean     28.444748   154.467152   132.117775     0.014407     0.067247  ...   \n",
              "std      13.414944    50.284998    40.053187     0.006888     0.064934  ...   \n",
              "min       3.332016    30.000000    38.393285     0.004412     0.000841  ...   \n",
              "25%      18.524319   118.000000   101.389215     0.008953     0.017568  ...   \n",
              "50%      26.092095   160.000000   131.496260     0.012616     0.048946  ...   \n",
              "75%      35.564597   190.000000   161.425103     0.019040     0.097459  ...   \n",
              "max      84.488579   255.000000   237.302521     0.051348     0.463266  ...   \n",
              "\n",
              "        feature_12   feature_13   feature_14   feature_15   feature_16  \\\n",
              "count  4049.000000  4049.000000  4049.000000  4049.000000  4049.000000   \n",
              "mean     31.419329   129.097555   135.178617     0.011919     0.055613   \n",
              "std      11.709597    42.639157    41.219059     0.005760     0.051680   \n",
              "min       4.458147    38.000000    35.002831     0.001759     0.001292   \n",
              "25%      22.781303    96.000000   104.870496     0.007378     0.018657   \n",
              "50%      29.973123   128.000000   135.945909     0.010153     0.040533   \n",
              "75%      38.831991   160.000000   163.001364     0.015499     0.075188   \n",
              "max      83.300989   255.000000   253.127541     0.039157     0.409219   \n",
              "\n",
              "          feature_17   feature_18   feature_19   feature_20   feature_21  \n",
              "count    4049.000000  4049.000000  4049.000000  4049.000000  4049.000000  \n",
              "mean     1595.657946     6.463401    31.622616   133.915658   135.793304  \n",
              "std     43740.354941     0.582921    11.665083    47.090754    37.045545  \n",
              "min   -244531.850043     1.100130     5.755065    29.000000    47.520124  \n",
              "25%    -14884.273243     6.153852    23.180675   101.000000   106.340971  \n",
              "50%     -1319.954314     6.564285    31.009116   135.000000   133.866074  \n",
              "75%     13361.744084     6.887963    39.073903   164.000000   164.516818  \n",
              "max    484126.083913     7.561561    90.110651   255.000000   232.263574  \n",
              "\n",
              "[8 rows x 22 columns]"
            ],
            "text/html": [
              "\n",
              "  <div id=\"df-3ce61721-4196-4cb5-902b-ab5d0d9c4942\">\n",
              "    <div class=\"colab-df-container\">\n",
              "      <div>\n",
              "<style scoped>\n",
              "    .dataframe tbody tr th:only-of-type {\n",
              "        vertical-align: middle;\n",
              "    }\n",
              "\n",
              "    .dataframe tbody tr th {\n",
              "        vertical-align: top;\n",
              "    }\n",
              "\n",
              "    .dataframe thead th {\n",
              "        text-align: right;\n",
              "    }\n",
              "</style>\n",
              "<table border=\"1\" class=\"dataframe\">\n",
              "  <thead>\n",
              "    <tr style=\"text-align: right;\">\n",
              "      <th></th>\n",
              "      <th>feature_0</th>\n",
              "      <th>feature_1</th>\n",
              "      <th>feature_2</th>\n",
              "      <th>feature_3</th>\n",
              "      <th>feature_4</th>\n",
              "      <th>feature_5</th>\n",
              "      <th>feature_6</th>\n",
              "      <th>feature_7</th>\n",
              "      <th>feature_8</th>\n",
              "      <th>feature_9</th>\n",
              "      <th>...</th>\n",
              "      <th>feature_12</th>\n",
              "      <th>feature_13</th>\n",
              "      <th>feature_14</th>\n",
              "      <th>feature_15</th>\n",
              "      <th>feature_16</th>\n",
              "      <th>feature_17</th>\n",
              "      <th>feature_18</th>\n",
              "      <th>feature_19</th>\n",
              "      <th>feature_20</th>\n",
              "      <th>feature_21</th>\n",
              "    </tr>\n",
              "  </thead>\n",
              "  <tbody>\n",
              "    <tr>\n",
              "      <th>count</th>\n",
              "      <td>4049.000000</td>\n",
              "      <td>4049.000000</td>\n",
              "      <td>4049.000000</td>\n",
              "      <td>4049.000000</td>\n",
              "      <td>4049.000000</td>\n",
              "      <td>4049.000000</td>\n",
              "      <td>4049.000000</td>\n",
              "      <td>4049.000000</td>\n",
              "      <td>4049.000000</td>\n",
              "      <td>4049.000000</td>\n",
              "      <td>...</td>\n",
              "      <td>4049.000000</td>\n",
              "      <td>4049.000000</td>\n",
              "      <td>4049.000000</td>\n",
              "      <td>4049.000000</td>\n",
              "      <td>4049.000000</td>\n",
              "      <td>4049.000000</td>\n",
              "      <td>4049.000000</td>\n",
              "      <td>4049.000000</td>\n",
              "      <td>4049.000000</td>\n",
              "      <td>4049.000000</td>\n",
              "    </tr>\n",
              "    <tr>\n",
              "      <th>mean</th>\n",
              "      <td>156.325574</td>\n",
              "      <td>0.013050</td>\n",
              "      <td>0.050097</td>\n",
              "      <td>4937.435138</td>\n",
              "      <td>6.274991</td>\n",
              "      <td>28.444748</td>\n",
              "      <td>154.467152</td>\n",
              "      <td>132.117775</td>\n",
              "      <td>0.014407</td>\n",
              "      <td>0.067247</td>\n",
              "      <td>...</td>\n",
              "      <td>31.419329</td>\n",
              "      <td>129.097555</td>\n",
              "      <td>135.178617</td>\n",
              "      <td>0.011919</td>\n",
              "      <td>0.055613</td>\n",
              "      <td>1595.657946</td>\n",
              "      <td>6.463401</td>\n",
              "      <td>31.622616</td>\n",
              "      <td>133.915658</td>\n",
              "      <td>135.793304</td>\n",
              "    </tr>\n",
              "    <tr>\n",
              "      <th>std</th>\n",
              "      <td>47.200665</td>\n",
              "      <td>0.006448</td>\n",
              "      <td>0.069130</td>\n",
              "      <td>36217.317387</td>\n",
              "      <td>0.730330</td>\n",
              "      <td>13.414944</td>\n",
              "      <td>50.284998</td>\n",
              "      <td>40.053187</td>\n",
              "      <td>0.006888</td>\n",
              "      <td>0.064934</td>\n",
              "      <td>...</td>\n",
              "      <td>11.709597</td>\n",
              "      <td>42.639157</td>\n",
              "      <td>41.219059</td>\n",
              "      <td>0.005760</td>\n",
              "      <td>0.051680</td>\n",
              "      <td>43740.354941</td>\n",
              "      <td>0.582921</td>\n",
              "      <td>11.665083</td>\n",
              "      <td>47.090754</td>\n",
              "      <td>37.045545</td>\n",
              "    </tr>\n",
              "    <tr>\n",
              "      <th>min</th>\n",
              "      <td>32.180145</td>\n",
              "      <td>0.001120</td>\n",
              "      <td>0.001113</td>\n",
              "      <td>-223977.273661</td>\n",
              "      <td>0.447899</td>\n",
              "      <td>3.332016</td>\n",
              "      <td>30.000000</td>\n",
              "      <td>38.393285</td>\n",
              "      <td>0.004412</td>\n",
              "      <td>0.000841</td>\n",
              "      <td>...</td>\n",
              "      <td>4.458147</td>\n",
              "      <td>38.000000</td>\n",
              "      <td>35.002831</td>\n",
              "      <td>0.001759</td>\n",
              "      <td>0.001292</td>\n",
              "      <td>-244531.850043</td>\n",
              "      <td>1.100130</td>\n",
              "      <td>5.755065</td>\n",
              "      <td>29.000000</td>\n",
              "      <td>47.520124</td>\n",
              "    </tr>\n",
              "    <tr>\n",
              "      <th>25%</th>\n",
              "      <td>122.668864</td>\n",
              "      <td>0.007893</td>\n",
              "      <td>0.009755</td>\n",
              "      <td>-5855.160978</td>\n",
              "      <td>5.899003</td>\n",
              "      <td>18.524319</td>\n",
              "      <td>118.000000</td>\n",
              "      <td>101.389215</td>\n",
              "      <td>0.008953</td>\n",
              "      <td>0.017568</td>\n",
              "      <td>...</td>\n",
              "      <td>22.781303</td>\n",
              "      <td>96.000000</td>\n",
              "      <td>104.870496</td>\n",
              "      <td>0.007378</td>\n",
              "      <td>0.018657</td>\n",
              "      <td>-14884.273243</td>\n",
              "      <td>6.153852</td>\n",
              "      <td>23.180675</td>\n",
              "      <td>101.000000</td>\n",
              "      <td>106.340971</td>\n",
              "    </tr>\n",
              "    <tr>\n",
              "      <th>50%</th>\n",
              "      <td>161.878223</td>\n",
              "      <td>0.011377</td>\n",
              "      <td>0.027184</td>\n",
              "      <td>-367.480824</td>\n",
              "      <td>6.346107</td>\n",
              "      <td>26.092095</td>\n",
              "      <td>160.000000</td>\n",
              "      <td>131.496260</td>\n",
              "      <td>0.012616</td>\n",
              "      <td>0.048946</td>\n",
              "      <td>...</td>\n",
              "      <td>29.973123</td>\n",
              "      <td>128.000000</td>\n",
              "      <td>135.945909</td>\n",
              "      <td>0.010153</td>\n",
              "      <td>0.040533</td>\n",
              "      <td>-1319.954314</td>\n",
              "      <td>6.564285</td>\n",
              "      <td>31.009116</td>\n",
              "      <td>135.000000</td>\n",
              "      <td>133.866074</td>\n",
              "    </tr>\n",
              "    <tr>\n",
              "      <th>75%</th>\n",
              "      <td>189.791550</td>\n",
              "      <td>0.017283</td>\n",
              "      <td>0.061226</td>\n",
              "      <td>8078.139421</td>\n",
              "      <td>6.783356</td>\n",
              "      <td>35.564597</td>\n",
              "      <td>190.000000</td>\n",
              "      <td>161.425103</td>\n",
              "      <td>0.019040</td>\n",
              "      <td>0.097459</td>\n",
              "      <td>...</td>\n",
              "      <td>38.831991</td>\n",
              "      <td>160.000000</td>\n",
              "      <td>163.001364</td>\n",
              "      <td>0.015499</td>\n",
              "      <td>0.075188</td>\n",
              "      <td>13361.744084</td>\n",
              "      <td>6.887963</td>\n",
              "      <td>39.073903</td>\n",
              "      <td>164.000000</td>\n",
              "      <td>164.516818</td>\n",
              "    </tr>\n",
              "    <tr>\n",
              "      <th>max</th>\n",
              "      <td>254.171756</td>\n",
              "      <td>0.034033</td>\n",
              "      <td>0.803293</td>\n",
              "      <td>366650.108983</td>\n",
              "      <td>7.621974</td>\n",
              "      <td>84.488579</td>\n",
              "      <td>255.000000</td>\n",
              "      <td>237.302521</td>\n",
              "      <td>0.051348</td>\n",
              "      <td>0.463266</td>\n",
              "      <td>...</td>\n",
              "      <td>83.300989</td>\n",
              "      <td>255.000000</td>\n",
              "      <td>253.127541</td>\n",
              "      <td>0.039157</td>\n",
              "      <td>0.409219</td>\n",
              "      <td>484126.083913</td>\n",
              "      <td>7.561561</td>\n",
              "      <td>90.110651</td>\n",
              "      <td>255.000000</td>\n",
              "      <td>232.263574</td>\n",
              "    </tr>\n",
              "  </tbody>\n",
              "</table>\n",
              "<p>8 rows × 22 columns</p>\n",
              "</div>\n",
              "      <button class=\"colab-df-convert\" onclick=\"convertToInteractive('df-3ce61721-4196-4cb5-902b-ab5d0d9c4942')\"\n",
              "              title=\"Convert this dataframe to an interactive table.\"\n",
              "              style=\"display:none;\">\n",
              "        \n",
              "  <svg xmlns=\"http://www.w3.org/2000/svg\" height=\"24px\"viewBox=\"0 0 24 24\"\n",
              "       width=\"24px\">\n",
              "    <path d=\"M0 0h24v24H0V0z\" fill=\"none\"/>\n",
              "    <path d=\"M18.56 5.44l.94 2.06.94-2.06 2.06-.94-2.06-.94-.94-2.06-.94 2.06-2.06.94zm-11 1L8.5 8.5l.94-2.06 2.06-.94-2.06-.94L8.5 2.5l-.94 2.06-2.06.94zm10 10l.94 2.06.94-2.06 2.06-.94-2.06-.94-.94-2.06-.94 2.06-2.06.94z\"/><path d=\"M17.41 7.96l-1.37-1.37c-.4-.4-.92-.59-1.43-.59-.52 0-1.04.2-1.43.59L10.3 9.45l-7.72 7.72c-.78.78-.78 2.05 0 2.83L4 21.41c.39.39.9.59 1.41.59.51 0 1.02-.2 1.41-.59l7.78-7.78 2.81-2.81c.8-.78.8-2.07 0-2.86zM5.41 20L4 18.59l7.72-7.72 1.47 1.35L5.41 20z\"/>\n",
              "  </svg>\n",
              "      </button>\n",
              "      \n",
              "  <style>\n",
              "    .colab-df-container {\n",
              "      display:flex;\n",
              "      flex-wrap:wrap;\n",
              "      gap: 12px;\n",
              "    }\n",
              "\n",
              "    .colab-df-convert {\n",
              "      background-color: #E8F0FE;\n",
              "      border: none;\n",
              "      border-radius: 50%;\n",
              "      cursor: pointer;\n",
              "      display: none;\n",
              "      fill: #1967D2;\n",
              "      height: 32px;\n",
              "      padding: 0 0 0 0;\n",
              "      width: 32px;\n",
              "    }\n",
              "\n",
              "    .colab-df-convert:hover {\n",
              "      background-color: #E2EBFA;\n",
              "      box-shadow: 0px 1px 2px rgba(60, 64, 67, 0.3), 0px 1px 3px 1px rgba(60, 64, 67, 0.15);\n",
              "      fill: #174EA6;\n",
              "    }\n",
              "\n",
              "    [theme=dark] .colab-df-convert {\n",
              "      background-color: #3B4455;\n",
              "      fill: #D2E3FC;\n",
              "    }\n",
              "\n",
              "    [theme=dark] .colab-df-convert:hover {\n",
              "      background-color: #434B5C;\n",
              "      box-shadow: 0px 1px 3px 1px rgba(0, 0, 0, 0.15);\n",
              "      filter: drop-shadow(0px 1px 2px rgba(0, 0, 0, 0.3));\n",
              "      fill: #FFFFFF;\n",
              "    }\n",
              "  </style>\n",
              "\n",
              "      <script>\n",
              "        const buttonEl =\n",
              "          document.querySelector('#df-3ce61721-4196-4cb5-902b-ab5d0d9c4942 button.colab-df-convert');\n",
              "        buttonEl.style.display =\n",
              "          google.colab.kernel.accessAllowed ? 'block' : 'none';\n",
              "\n",
              "        async function convertToInteractive(key) {\n",
              "          const element = document.querySelector('#df-3ce61721-4196-4cb5-902b-ab5d0d9c4942');\n",
              "          const dataTable =\n",
              "            await google.colab.kernel.invokeFunction('convertToInteractive',\n",
              "                                                     [key], {});\n",
              "          if (!dataTable) return;\n",
              "\n",
              "          const docLinkHtml = 'Like what you see? Visit the ' +\n",
              "            '<a target=\"_blank\" href=https://colab.research.google.com/notebooks/data_table.ipynb>data table notebook</a>'\n",
              "            + ' to learn more about interactive tables.';\n",
              "          element.innerHTML = '';\n",
              "          dataTable['output_type'] = 'display_data';\n",
              "          await google.colab.output.renderOutput(dataTable, element);\n",
              "          const docLink = document.createElement('div');\n",
              "          docLink.innerHTML = docLinkHtml;\n",
              "          element.appendChild(docLink);\n",
              "        }\n",
              "      </script>\n",
              "    </div>\n",
              "  </div>\n",
              "  "
            ]
          },
          "metadata": {},
          "execution_count": 26
        }
      ]
    },
    {
      "cell_type": "markdown",
      "source": [
        "Se explorará más acerca de la distribución de los datos en el siguiente notebook titulado \"Análisis de Distribución de Datos\".\n",
        "\n",
        "De igual manera, se descarga el archivo CSV y se guarda de manera **manual** en el repositorio MonografiaDataScience en la subcarpeta tmp (esto debido a que Colab no tiene permiso para realizar push directos al repositorio), con el fin de guardar las caracteristicas extraidas, y usarlas en el siguiente notebook."
      ],
      "metadata": {
        "id": "7Su-xxsWa7_u"
      }
    },
    {
      "cell_type": "code",
      "source": [],
      "metadata": {
        "id": "corjE1Rja5U9"
      },
      "execution_count": null,
      "outputs": []
    }
  ]
}
